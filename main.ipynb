{
 "cells": [
  {
   "cell_type": "code",
   "execution_count": null,
   "id": "f956f26a-7c7a-4b69-b6b1-57b365af3c28",
   "metadata": {},
   "outputs": [
    {
     "name": "stderr",
     "output_type": "stream",
     "text": [
      "QRs are generating:   5%|████▏                                                                          | 27018/512000 [00:12<03:47, 2127.33it/s]"
     ]
    }
   ],
   "source": [
    "from dataset_generation.dataset_generator import generate_dataset_by_label\n",
    "import matplotlib.pyplot as plt\n",
    "\n",
    "N = 512000\n",
    "name = 'QRs'\n",
    "dataset_name = name\n",
    "if N > 10 ** 4:\n",
    "    dataset_name = 'Big_' + dataset_name\n",
    "data_type = 'train'\n",
    "\n",
    "data = generate_dataset_by_label(name, N)"
   ]
  },
  {
   "cell_type": "code",
   "execution_count": null,
   "id": "9197db0b-08a3-4e5b-a879-4e7267cf9f1c",
   "metadata": {},
   "outputs": [],
   "source": [
    "from dataset_generation.advanced_generator import octile_distance\n",
    "import numpy as np\n",
    "\n",
    "maps = np.expand_dims(data[..., 0] == 0, 1)\n",
    "starts = np.expand_dims(data[..., 3] == 1, 1)\n",
    "goals = np.expand_dims(data[..., 1] == 1, 1)\n",
    "abs_h = np.expand_dims(data[..., 2], 1)\n",
    "focal = np.zeros_like(maps).astype(bool)"
   ]
  },
  {
   "cell_type": "code",
   "execution_count": null,
   "id": "71ef67ef-61d7-479e-84f0-9018d6954fef",
   "metadata": {},
   "outputs": [],
   "source": [
    "from tqdm import tqdm\n",
    "\n",
    "cf = np.zeros_like(maps).astype(float)\n",
    "\n",
    "for idx in tqdm(range(N)):\n",
    "    goal_i, goal_j = np.where(goals[idx, 0])\n",
    "    goal_i, goal_j = goal_i[0], goal_j[0]\n",
    "    cf[idx, 0, goal_i, goal_j] = 1.0\n",
    "    for i in range(64):\n",
    "        for j in range(64):\n",
    "            if abs_h[idx, 0, i, j] > 0:\n",
    "                cf[idx, 0, i, j] = octile_distance((i, j), (goal_i, goal_j)) / abs_h[idx, 0, i, j]"
   ]
  },
  {
   "cell_type": "code",
   "execution_count": null,
   "id": "76e757da-ec0b-49b2-b204-b6be021a0804",
   "metadata": {},
   "outputs": [],
   "source": [
    "import os\n",
    "\n",
    "print(maps.shape)\n",
    "\n",
    "os.makedirs(f'./{dataset_name}/{data_type}', exist_ok=True)\n",
    "np.save(f'./{dataset_name}/{data_type}/maps.npy', maps)\n",
    "np.save(f'./{dataset_name}/{data_type}/starts.npy', starts)\n",
    "np.save(f'./{dataset_name}/{data_type}/goals.npy', goals)\n",
    "np.save(f'./{dataset_name}/{data_type}/focal.npy', focal)\n",
    "np.save(f'./{dataset_name}/{data_type}/cf.npy', cf)\n",
    "np.save(f'./{dataset_name}/{data_type}/abs.npy', abs_h)"
   ]
  },
  {
   "cell_type": "code",
   "execution_count": null,
   "id": "0c9ddd0d-0014-44c9-8e87-83ae486a1ccc",
   "metadata": {},
   "outputs": [],
   "source": []
  }
 ],
 "metadata": {
  "kernelspec": {
   "display_name": "Python 3 (ipykernel)",
   "language": "python",
   "name": "python3"
  },
  "language_info": {
   "codemirror_mode": {
    "name": "ipython",
    "version": 3
   },
   "file_extension": ".py",
   "mimetype": "text/x-python",
   "name": "python",
   "nbconvert_exporter": "python",
   "pygments_lexer": "ipython3",
   "version": "3.12.8"
  }
 },
 "nbformat": 4,
 "nbformat_minor": 5
}
