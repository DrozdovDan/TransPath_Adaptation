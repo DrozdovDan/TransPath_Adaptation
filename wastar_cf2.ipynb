{
 "cells": [
  {
   "cell_type": "code",
   "execution_count": 1,
   "metadata": {},
   "outputs": [],
   "source": [
    "import random\n",
    "import traceback\n",
    "from heapq import heappop, heappush\n",
    "from pathlib import Path\n",
    "from textwrap import dedent\n",
    "from typing import Callable, Dict, Iterable, List, Optional, Tuple, Type, Union\n",
    "\n",
    "import matplotlib.pyplot as plt\n",
    "import numpy as np\n",
    "import numpy.typing as npt\n",
    "from PIL import Image, ImageDraw\n",
    "import pandas as pd\n",
    "from tqdm import tqdm\n",
    "epsilon = 1e-3\n",
    "import torch\n",
    "from torch.utils.data import DataLoader\n",
    "from model import TransPathModel, GridData\n",
    "\n",
    "%matplotlib inline"
   ]
  },
  {
   "cell_type": "code",
   "execution_count": 2,
   "metadata": {},
   "outputs": [],
   "source": [
    "\n",
    "class Map:\n",
    "    \"\"\"\n",
    "    Represents a square grid environment for our moving agent.\n",
    "\n",
    "    Attributes\n",
    "    ----------\n",
    "    _width : int\n",
    "        The number of columns in the grid.\n",
    "\n",
    "    _height : int\n",
    "        The number of rows in the grid.\n",
    "\n",
    "    _cells : np.ndarray\n",
    "        A binary matrix representing the grid where 0 represents a traversable cell, and 1 represents a blocked cell.\n",
    "    \"\"\"\n",
    "\n",
    "    def __init__(self, cells: npt.NDArray):\n",
    "        \"\"\"\n",
    "        Initializes the map using a 2D array of cells.\n",
    "\n",
    "        Parameters\n",
    "        ----------\n",
    "        cells : np.ndarray\n",
    "            A binary matrix representing the grid. 0 indicates a traversable cell, and 1 indicates a blocked cell.\n",
    "        \"\"\"\n",
    "        self._width = cells.shape[1]\n",
    "        self._height = cells.shape[0]\n",
    "        self._cells = cells\n",
    "\n",
    "    def in_bounds(self, i: int, j: int) -> bool:\n",
    "        \"\"\"\n",
    "        Checks if the cell (i, j) is within the grid boundaries.\n",
    "\n",
    "        Parameters\n",
    "        ----------\n",
    "        i : int\n",
    "            Row number of the cell in the grid.\n",
    "        j : int\n",
    "            Column number of the cell in the grid.\n",
    "\n",
    "        Returns\n",
    "        ----------\n",
    "        bool\n",
    "            True if the cell is inside the grid, False otherwise.\n",
    "        \"\"\"\n",
    "        return 0 <= j < self._width and 0 <= i < self._height\n",
    "\n",
    "    def traversable(self, i: int, j: int) -> bool:\n",
    "        \"\"\"\n",
    "        Checks if the cell (i, j) is not an obstacle.\n",
    "\n",
    "        Parameters\n",
    "        ----------\n",
    "        i : int\n",
    "            Row number of the cell in the grid.\n",
    "        j : int\n",
    "            Column number of the cell in the grid.\n",
    "\n",
    "        Returns\n",
    "        ----------\n",
    "        bool\n",
    "            True if the cell is traversable, False if it's blocked.\n",
    "        \"\"\"\n",
    "        return not self._cells[i, j]\n",
    "\n",
    "    def get_neighbors(self, i: int, j: int) -> List[Tuple[int, int]]:\n",
    "        \"\"\"\n",
    "        Gets a list of neighboring cells as (i, j) tuples.\n",
    "        Assumes that the grid is 4-connected, allowing moves only in cardinal directions.\n",
    "\n",
    "        Parameters\n",
    "        ----------\n",
    "        i : int\n",
    "            Row number of the cell in the grid.\n",
    "        j : int\n",
    "            Column number of the cell in the grid.\n",
    "\n",
    "        Returns\n",
    "        ----------\n",
    "        neighbors : List[Tuple[int, int]]\n",
    "            List of neighboring cells.\n",
    "        \"\"\"\n",
    "        neighbors = []\n",
    "        delta = ((0, 1), (1, 0), (0, -1), (-1, 0), (1, 1), (-1, 1), (-1, -1), (1, -1))\n",
    "        for dx, dy in delta:\n",
    "            ni, nj = i + dx, j + dy\n",
    "            if self.in_bounds(ni, nj) and self.traversable(ni, nj):\n",
    "                neighbors.append((ni, nj))\n",
    "        return neighbors\n",
    "\n",
    "    def get_size(self) -> Tuple[int, int]:\n",
    "        \"\"\"\n",
    "        Returns the size of the grid in cells.\n",
    "\n",
    "        Returns\n",
    "        ----------\n",
    "        (height, width) : Tuple[int, int]\n",
    "            Number of rows and columns in the grid.\n",
    "        \"\"\"\n",
    "        return self._height, self._width"
   ]
  },
  {
   "cell_type": "code",
   "execution_count": 3,
   "metadata": {},
   "outputs": [],
   "source": [
    "\n",
    "def compute_cost(i1: int, j1: int, i2: int, j2: int) -> Union[int, float]:\n",
    "    \"\"\"\n",
    "    Computes the cost of simple moves between cells (i1, j1) and (i2, j2).\n",
    "\n",
    "    Parameters\n",
    "    ----------\n",
    "    i1 : int\n",
    "        Row number of the first cell in the grid.\n",
    "    j1 : int\n",
    "        Column number of the first cell in the grid.\n",
    "    i2 : int\n",
    "        Row number of the second cell in the grid.\n",
    "    j2 : int\n",
    "        Column number of the second cell in the grid.\n",
    "\n",
    "    Returns\n",
    "    ----------\n",
    "    int | float\n",
    "        Cost of the move between cells.\n",
    "\n",
    "    Raises\n",
    "    ----------\n",
    "    ValueError\n",
    "        If trying to compute the cost of a non-supported move.\n",
    "    \"\"\"\n",
    "    if abs(i1 - i2) + abs(j1 - j2) == 1:  # Cardinal move\n",
    "        return 1\n",
    "    elif abs(i1 - i2) == 1 and abs(j1 - j2) == 1:\n",
    "        return 2 ** 0.5\n",
    "    else:\n",
    "        raise ValueError(\"Trying to compute the cost of a non-supported move!\")"
   ]
  },
  {
   "cell_type": "code",
   "execution_count": 4,
   "metadata": {},
   "outputs": [],
   "source": [
    "\n",
    "class Node:\n",
    "    \"\"\"\n",
    "    Represents a search node.\n",
    "\n",
    "    Attributes\n",
    "    ----------\n",
    "    i : int\n",
    "        Row coordinate of the corresponding grid element.\n",
    "    j : int\n",
    "        Column coordinate of the corresponding grid element.\n",
    "    g : float | int\n",
    "        g-value of the node.\n",
    "    h : float | int\n",
    "        h-value of the node\n",
    "    f : float | int\n",
    "        f-value of the node\n",
    "    parent : Node\n",
    "        Pointer to the parent node.\n",
    "    \"\"\"\n",
    "\n",
    "    def __init__(\n",
    "        self,\n",
    "        i: int,\n",
    "        j: int,\n",
    "        g: Union[float, int] = 0,\n",
    "        h: Union[float, int] = 0,\n",
    "        f: Optional[Union[float, int]] = None,\n",
    "        parent: \"Node\" = None,\n",
    "    ):\n",
    "        \"\"\"\n",
    "        Initializes a search node.\n",
    "\n",
    "        Parameters\n",
    "        ----------\n",
    "        i : int\n",
    "            Row coordinate of the corresponding grid element.\n",
    "        j : int\n",
    "            Column coordinate of the corresponding grid element.\n",
    "        g : float | int\n",
    "            g-value of the node.\n",
    "        h : float | int\n",
    "            h-value of the node (always 0 for Dijkstra).\n",
    "        f : float | int\n",
    "            f-value of the node (always equal to g-value for Dijkstra).\n",
    "        parent : Node\n",
    "            Pointer to the parent node.\n",
    "        \"\"\"\n",
    "        self.i = i\n",
    "        self.j = j\n",
    "        self.g = g\n",
    "        self.h = h\n",
    "        if f is None:\n",
    "            self.f = self.g + h\n",
    "        else:\n",
    "            self.f = f\n",
    "        self.parent = parent\n",
    "\n",
    "    def __eq__(self, other):\n",
    "        \"\"\"\n",
    "        Checks if two search nodes are the same, which is needed to detect duplicates in the search tree.\n",
    "        \"\"\"\n",
    "        return (self.i == other.i) and (self.j == other.j)\n",
    "\n",
    "    def __hash__(self):\n",
    "        \"\"\"\n",
    "        Makes the Node object hashable, allowing it to be used in sets/dictionaries.\n",
    "        \"\"\"\n",
    "        return hash((self.i, self.j))\n",
    "\n",
    "    def __lt__(self, other):\n",
    "        \"\"\"\n",
    "        Compares the keys (i.e., the f-values) of two nodes, needed for sorting/extracting the best element from OPEN.\n",
    "        \"\"\"\n",
    "        if abs(self.f - other.f) < epsilon: # tie-break\n",
    "            return self.g > other.g\n",
    "        return self.f < other.f"
   ]
  },
  {
   "cell_type": "code",
   "execution_count": 5,
   "metadata": {},
   "outputs": [],
   "source": [
    "class SearchTreePQD:\n",
    "    \"\"\"\n",
    "    SearchTree using a priority queue for OPEN and a dictionary for CLOSED.\n",
    "    \"\"\"\n",
    "\n",
    "    def __init__(self):\n",
    "        self._open = []  # Priority queue for nodes in OPEN\n",
    "        self._closed = {}  # Dictionary for nodes in CLOSED (expanded nodes)\n",
    "        self._enc_open_dublicates = 0  # Number of dublicates encountered in OPEN\n",
    "\n",
    "    def __len__(self) -> int:\n",
    "        \"\"\"\n",
    "        Returns the size of the search tree. Useful for assessing the memory\n",
    "        footprint of the algorithm, especially at the final iteration.\n",
    "        \"\"\"\n",
    "        return len(self._open) + len(self._closed)\n",
    "\n",
    "    def open_is_empty(self) -> bool:\n",
    "        \"\"\"\n",
    "        Checks if OPEN is empty.\n",
    "        If true, the main search loop should be interrupted.\n",
    "        \"\"\"\n",
    "        return len(self._open) == 0\n",
    "\n",
    "    def add_to_open(self, item: Node):\n",
    "        \"\"\"\n",
    "        Adds a node to the search tree, specifically to OPEN. This node is either\n",
    "        entirely new or a duplicate of an existing node in OPEN.\n",
    "        This implementation detects duplicates lazily; thus, nodes are added to\n",
    "        OPEN without initial duplicate checks.\n",
    "        \"\"\"\n",
    "        heappush(self._open, item)\n",
    "\n",
    "    def get_best_node_from_open(self) -> Optional[Node]:\n",
    "        \"\"\"\n",
    "        Retrieves the best node from OPEN, defined by the minimum key.\n",
    "        This node will then be expanded in the main search loop.\n",
    "\n",
    "        Duplicates are managed here. If a node has been expanded previously\n",
    "        (and is in CLOSED), it's skipped and the next best node is considered.\n",
    "\n",
    "        Returns None if OPEN is empty.\n",
    "        \"\"\"\n",
    "        if not self._open or len(self._open) == 0:\n",
    "            return None\n",
    "        best_node = heappop(self._open)\n",
    "        while self.was_expanded(best_node):\n",
    "            self._enc_open_dublicates += 1\n",
    "            if not self._open or len(self._open) == 0:\n",
    "                return None \n",
    "            best_node = heappop(self._open)\n",
    "        return best_node\n",
    "\n",
    "    def add_to_closed(self, item: Node):\n",
    "        \"\"\"\n",
    "        Adds a node to the CLOSED dictionary.\n",
    "        \"\"\"\n",
    "        self._closed[item] = item\n",
    "\n",
    "    def was_expanded(self, item: Node) -> bool:\n",
    "        \"\"\"\n",
    "        Checks if a node has been previously expanded.\n",
    "        \"\"\"\n",
    "        return item in self._closed\n",
    "\n",
    "    @property\n",
    "    def opened(self):\n",
    "        return self._open\n",
    "\n",
    "    @property\n",
    "    def expanded(self):\n",
    "        return self._closed.values()\n",
    "\n",
    "    @property\n",
    "    def number_of_open_dublicates(self):\n",
    "        return self._enc_open_dublicates"
   ]
  },
  {
   "cell_type": "code",
   "execution_count": 6,
   "metadata": {},
   "outputs": [],
   "source": [
    "\n",
    "def make_path(goal: Node) -> Tuple[List[Node], Union[float, int]]:\n",
    "    \"\"\"\n",
    "    Creates a path by tracing parent pointers from the goal node to the start node.\n",
    "    It also returns the path's length.\n",
    "\n",
    "    Parameters\n",
    "    ----------\n",
    "    goal : Node\n",
    "        Pointer to the goal node in the search tree.\n",
    "\n",
    "    Returns\n",
    "    -------\n",
    "    Tuple[List[Node], float]\n",
    "        Path and its length.\n",
    "    \"\"\"\n",
    "    length = goal.g\n",
    "    current = goal\n",
    "    path = []\n",
    "    while current.parent:\n",
    "        path.append(current)\n",
    "        current = current.parent\n",
    "    path.append(current)\n",
    "    return path[::-1], length"
   ]
  },
  {
   "cell_type": "code",
   "execution_count": 7,
   "metadata": {},
   "outputs": [],
   "source": [
    "def octile_distance(i1: int, j1: int, i2: int, j2: int) -> int:\n",
    "    \"\"\"\n",
    "    Computes the Manhattan distance between two cells on a grid.\n",
    "\n",
    "    Parameters\n",
    "    ----------\n",
    "    i1, j1 : int\n",
    "        (i, j) coordinates of the first cell on the grid.\n",
    "    i2, j2 : int\n",
    "        (i, j) coordinates of the second cell on the grid.\n",
    "\n",
    "    Returns\n",
    "    -------\n",
    "    int\n",
    "        Manhattan distance between the two cells.\n",
    "    \"\"\"\n",
    "    return abs(abs(i1 - i2) - abs(j1 - j2)) + min(abs(i1 - i2), abs(j1 - j2)) * 2 ** 0.5"
   ]
  },
  {
   "cell_type": "code",
   "execution_count": 8,
   "metadata": {},
   "outputs": [],
   "source": [
    "\n",
    "def wastar(\n",
    "    task_map: Map,\n",
    "    start_i: int,\n",
    "    start_j: int,\n",
    "    goal_i: int,\n",
    "    goal_j: int,\n",
    "    heuristic_func: Callable,\n",
    "    heuristic: np.ndarray,\n",
    "    search_tree: Type[SearchTreePQD],\n",
    ") -> Tuple[bool, Optional[Node], int, int, Optional[Iterable[Node]], Optional[Iterable[Node]]]:\n",
    "    \"\"\"\n",
    "    Implements the A* search algorithm.\n",
    "\n",
    "    Parameters\n",
    "    ----------\n",
    "    task_map : Map\n",
    "        The grid or map being searched.\n",
    "    start_i, start_j : int, int\n",
    "        Starting coordinates.\n",
    "    goal_i, goal_j : int, int\n",
    "        Goal coordinates.\n",
    "    heuristic_func : Callable\n",
    "        Heuristic function for estimating the distance from a node to the goal.\n",
    "    heuristic : np.ndarray\n",
    "        Heuristic for estimating the correction factor of heuristic_func.\n",
    "    search_tree : Type[SearchTreePQD]\n",
    "        The search tree to use.\n",
    "\n",
    "    Returns\n",
    "    -------\n",
    "    Tuple[bool, Optional[Node], int, int, Optional[Iterable[Node]], Optional[Iterable[Node]]]\n",
    "        Tuple containing:\n",
    "        - A boolean indicating if a path was found.\n",
    "        - The last node in the found path or None.\n",
    "        - Number of algorithm iterations.\n",
    "        - Size of the resultant search tree.\n",
    "        - OPEN set nodes for visualization or None.\n",
    "        - CLOSED set nodes.\n",
    "    \"\"\"\n",
    "    ast = search_tree()\n",
    "    steps = 0\n",
    "\n",
    "    start_node = Node(start_i, start_j, g=0, h=heuristic_func(start_i, start_j, goal_i, goal_j) / heuristic[start_i, start_j])\n",
    "    ast.add_to_open(start_node)\n",
    "\n",
    "    goal_node = Node(goal_i, goal_j)\n",
    "\n",
    "    while not ast.open_is_empty():\n",
    "        steps += 1\n",
    "        best = ast.get_best_node_from_open()\n",
    "        if not best:\n",
    "            break\n",
    "        if goal_node == best:\n",
    "            return True, best, steps, len(ast), ast.opened, ast.expanded\n",
    "        neighbours = task_map.get_neighbors(best.i, best.j)\n",
    "        for neighbour in neighbours:\n",
    "            cur_node = Node(neighbour[0], neighbour[1], g=(best.g + compute_cost(best.i, best.j, neighbour[0], neighbour[1])), h=heuristic_func(neighbour[0], neighbour[1], goal_i, goal_j) / heuristic[neighbour[0], neighbour[1]], parent=best)\n",
    "            if not ast.was_expanded(cur_node):\n",
    "                ast.add_to_open(cur_node)\n",
    "        ast.add_to_closed(best)\n",
    "\n",
    "    return False, None, steps, len(ast), None, ast.expanded"
   ]
  },
  {
   "cell_type": "code",
   "execution_count": 9,
   "metadata": {},
   "outputs": [],
   "source": [
    "def draw_rectangle(draw, node, scale, color):\n",
    "    \"\"\"Draws a rectangle on the grid, given the node and the desired color.\"\"\"\n",
    "    draw.rectangle(\n",
    "        (\n",
    "            node.j * scale,\n",
    "            node.i * scale,\n",
    "            (node.j + 1) * scale - 1,\n",
    "            (node.i + 1) * scale - 1,\n",
    "        ),\n",
    "        fill=color,\n",
    "        width=0,\n",
    "    )\n",
    "\n",
    "\n",
    "def draw(\n",
    "    grid_map: Map,\n",
    "    start: Optional[Node] = None,\n",
    "    goal: Optional[Node] = None,\n",
    "    path: Optional[Iterable[Node]] = None,\n",
    "    nodes_discovered: Optional[Iterable[Node]] = None,\n",
    "    nodes_expanded: Optional[Iterable[Node]] = None,\n",
    "    nodes_reexpanded: Optional[Iterable[Node]] = None,\n",
    "):\n",
    "    \"\"\"\n",
    "    Visualizes the environment, path, and expanded/not yet expanded/re-expanded nodes.\n",
    "\n",
    "    Parameters\n",
    "    ----------\n",
    "    grid_map : Map\n",
    "        Environment represented as a grid.\n",
    "    start, goal : Optional[Node], Optional[Node]\n",
    "        Nodes for the start and goal positions of the agent.\n",
    "    path : Optional[Iterable[Node]]\n",
    "        Sequence of nodes representing the path between start and goal.\n",
    "    nodes_discovered : Optional[Iterable[Node]]\n",
    "        Nodes that were discovered during the search process.\n",
    "    nodes_expanded : Optional[Iterable[Node]]\n",
    "        Nodes that were expanded during the search process.\n",
    "    nodes_reexpanded : Optional[Iterable[Node]]\n",
    "        Nodes that were re-expanded during the search process.\n",
    "    \"\"\"\n",
    "    scale = 5\n",
    "    height, width = grid_map.get_size()\n",
    "    im = Image.new(\"RGB\", (width * scale, height * scale), color=\"white\")\n",
    "    draw = ImageDraw.Draw(im)\n",
    "\n",
    "    # Draw blocked cells\n",
    "    for i in range(height):\n",
    "        for j in range(width):\n",
    "            if not grid_map.traversable(i, j):\n",
    "                draw.rectangle(\n",
    "                    (j * scale, i * scale, (j + 1) * scale - 1, (i + 1) * scale - 1),\n",
    "                    fill=(70, 80, 80),\n",
    "                )\n",
    "\n",
    "    node_colors = [\n",
    "        (nodes_discovered, (213, 219, 219)),\n",
    "        (nodes_expanded, (131, 145, 146)),\n",
    "        (nodes_reexpanded, (255, 145, 146)),\n",
    "    ]\n",
    "\n",
    "    for nodes, color in node_colors:\n",
    "        if nodes is not None:\n",
    "            for node in nodes:\n",
    "                draw_rectangle(draw, node, scale, color)\n",
    "\n",
    "    if path is not None:\n",
    "        for step in path:\n",
    "            color = (52, 152, 219) if grid_map.traversable(step.i, step.j) else (230, 126, 34)\n",
    "            draw_rectangle(draw, step, scale, color)\n",
    "\n",
    "    if start is not None and grid_map.traversable(start.i, start.j):\n",
    "        draw_rectangle(draw, start, scale, (40, 180, 99))\n",
    "\n",
    "    if goal is not None and grid_map.traversable(goal.i, goal.j):\n",
    "        draw_rectangle(draw, goal, scale, (231, 76, 60))\n",
    "\n",
    "    _, ax = plt.subplots(dpi=150)\n",
    "    ax.axes.xaxis.set_visible(False)\n",
    "    ax.axes.yaxis.set_visible(False)\n",
    "    plt.imshow(np.asarray(im))\n",
    "    plt.show()"
   ]
  },
  {
   "cell_type": "code",
   "execution_count": 30,
   "metadata": {},
   "outputs": [
    {
     "name": "stderr",
     "output_type": "stream",
     "text": [
      "100%|██████████████████████████████████████████████████████████████████████████████████████████████████████████| 500/500 [00:09<00:00, 54.68it/s]\n"
     ]
    },
    {
     "name": "stdout",
     "output_type": "stream",
     "text": [
      "(64000, 1, 64, 64)\n"
     ]
    }
   ],
   "source": [
    "dataset_path = './Big_QRs'\n",
    "model_path = './weights/QRs_big_model_2'\n",
    "mode = 'cf'\n",
    "accelerator = \"cuda\"\n",
    "devices = [1]\n",
    "batch_size = 128\n",
    "\n",
    "test_data = GridData(\n",
    "        path=f'{dataset_path}/test',\n",
    "        mode=mode\n",
    "    )\n",
    "\n",
    "dataloader = DataLoader(\n",
    "        test_data, \n",
    "        batch_size=batch_size,\n",
    "        shuffle=False, \n",
    "        # num_workers=multiprocessing.cpu_count(), freezes jupyter notebook\n",
    "        pin_memory=True\n",
    "    )\n",
    "\n",
    "eval_model = TransPathModel().to(torch.device(f'{accelerator}:{devices[-1]}'))\n",
    "eval_model.load_state_dict(torch.load(model_path, weights_only=True))\n",
    "eval_model.eval()\n",
    "predictions = []\n",
    "for map_design, start, goal, gt_hmap in tqdm(dataloader):\n",
    "    inputs = torch.cat([map_design, start + goal], dim=1) if mode in ('f', 'nastar') else torch.cat([map_design, goal], dim=1)\n",
    "    inputs = inputs.to(torch.device(f'{accelerator}:{devices[-1]}'))\n",
    "    \n",
    "    with torch.no_grad():\n",
    "        prediction = (eval_model(inputs) + 1) / 2\n",
    "\n",
    "    predictions.append(prediction)\n",
    "\n",
    "predictions = torch.cat(predictions).cpu().detach().numpy()\n",
    "print(predictions.shape)"
   ]
  },
  {
   "cell_type": "code",
   "execution_count": 31,
   "metadata": {},
   "outputs": [],
   "source": [
    "np.save(f'{dataset_path}/test/predicted_cf_big_2.npy', predictions)"
   ]
  },
  {
   "cell_type": "markdown",
   "metadata": {},
   "source": [
    "# Big QRs"
   ]
  },
  {
   "cell_type": "code",
   "execution_count": 37,
   "metadata": {},
   "outputs": [
    {
     "name": "stderr",
     "output_type": "stream",
     "text": [
      "/tmp/ipykernel_1341116/3792952004.py:57: RuntimeWarning: divide by zero encountered in scalar divide       | 8431/64000 [00:49<06:01, 153.79it/s]\n",
      "  cur_node = Node(neighbour[0], neighbour[1], g=(best.g + compute_cost(best.i, best.j, neighbour[0], neighbour[1])), h=heuristic_func(neighbour[0], neighbour[1], goal_i, goal_j) / heuristic[neighbour[0], neighbour[1]], parent=best)\n",
      "/tmp/ipykernel_1341116/1836098995.py:74: RuntimeWarning: invalid value encountered in scalar subtract     | 14820/64000 [01:27<05:08, 159.37it/s]\n",
      "  if abs(self.f - other.f) < epsilon: # tie-break\n",
      "100%|█████████████████████████████████████████████████████████████████████████████████████████████████████| 64000/64000 [06:16<00:00, 169.99it/s]\n"
     ]
    }
   ],
   "source": [
    "dataset_path = '../HS_HW_TransPath/TransPath_AlekSet/train'\n",
    "dataset_path = './Big_QRs/test'\n",
    "\n",
    "cells = np.load(f'{dataset_path}/maps.npy', mmap_mode='c')\n",
    "starts = np.load(f'{dataset_path}/starts.npy', mmap_mode='c')\n",
    "goals = np.load(f'{dataset_path}/goals.npy', mmap_mode='c')\n",
    "heuristics = np.load(f'{dataset_path}/predicted_cf_big_2.npy', mmap_mode='c')\n",
    "targets = np.load(f'{dataset_path}/cf.npy', mmap_mode='c')\n",
    "\n",
    "metrics = {'expansions_ratio' : [], 'length_ratio' : []}\n",
    "\n",
    "df = pd.read_csv('./Big_QRs_astar_octile_tie_break_data.csv')\n",
    "\n",
    "for i in tqdm(range(cells.shape[0])):\n",
    "    map = Map(cells[i, 0])\n",
    "    start_i, start_j = np.where(starts[i, 0])\n",
    "    start_i, start_j = start_i[0], start_j[0]\n",
    "    goal_i, goal_j = np.where(goals[i, 0])\n",
    "    goal_i, goal_j = goal_i[0], goal_j[0]\n",
    "    data = wastar(map, start_i, start_j, goal_i, goal_j, octile_distance, heuristics[i, 0], SearchTreePQD)\n",
    "    assert data[0], draw(map, Node(start_i, start_j), Node(goal_i, goal_j))\n",
    "    path, length = make_path(data[1])\n",
    "    metrics['length_ratio'].append(length / df['path_length'][i])\n",
    "    metrics['expansions_ratio'].append(len(data[-1]) / df['expanded_nodes_num'][i])"
   ]
  },
  {
   "cell_type": "code",
   "execution_count": 38,
   "metadata": {},
   "outputs": [
    {
     "data": {
      "text/html": [
       "<div>\n",
       "<style scoped>\n",
       "    .dataframe tbody tr th:only-of-type {\n",
       "        vertical-align: middle;\n",
       "    }\n",
       "\n",
       "    .dataframe tbody tr th {\n",
       "        vertical-align: top;\n",
       "    }\n",
       "\n",
       "    .dataframe thead th {\n",
       "        text-align: right;\n",
       "    }\n",
       "</style>\n",
       "<table border=\"1\" class=\"dataframe\">\n",
       "  <thead>\n",
       "    <tr style=\"text-align: right;\">\n",
       "      <th></th>\n",
       "      <th>expansions_ratio</th>\n",
       "      <th>length_ratio</th>\n",
       "    </tr>\n",
       "  </thead>\n",
       "  <tbody>\n",
       "    <tr>\n",
       "      <th>0</th>\n",
       "      <td>0.349282</td>\n",
       "      <td>1.038179</td>\n",
       "    </tr>\n",
       "    <tr>\n",
       "      <th>1</th>\n",
       "      <td>0.495413</td>\n",
       "      <td>1.012089</td>\n",
       "    </tr>\n",
       "    <tr>\n",
       "      <th>2</th>\n",
       "      <td>0.531549</td>\n",
       "      <td>1.023565</td>\n",
       "    </tr>\n",
       "    <tr>\n",
       "      <th>3</th>\n",
       "      <td>0.341579</td>\n",
       "      <td>1.065245</td>\n",
       "    </tr>\n",
       "    <tr>\n",
       "      <th>4</th>\n",
       "      <td>0.422652</td>\n",
       "      <td>1.037299</td>\n",
       "    </tr>\n",
       "  </tbody>\n",
       "</table>\n",
       "</div>"
      ],
      "text/plain": [
       "   expansions_ratio  length_ratio\n",
       "0          0.349282      1.038179\n",
       "1          0.495413      1.012089\n",
       "2          0.531549      1.023565\n",
       "3          0.341579      1.065245\n",
       "4          0.422652      1.037299"
      ]
     },
     "execution_count": 38,
     "metadata": {},
     "output_type": "execute_result"
    }
   ],
   "source": [
    "df = pd.DataFrame.from_dict(metrics)\n",
    "df.head()"
   ]
  },
  {
   "cell_type": "code",
   "execution_count": 39,
   "metadata": {},
   "outputs": [
    {
     "name": "stdout",
     "output_type": "stream",
     "text": [
      "0.978359375\n"
     ]
    }
   ],
   "source": [
    "print((df['expansions_ratio'] < 1).mean())"
   ]
  },
  {
   "cell_type": "code",
   "execution_count": 40,
   "metadata": {},
   "outputs": [
    {
     "data": {
      "image/png": "[encoded data removed]",
      "text/plain": [
       "<Figure size 640x480 with 1 Axes>"
      ]
     },
     "metadata": {},
     "output_type": "display_data"
    }
   ],
   "source": [
    "plt.hist(df['expansions_ratio'], bins=50)\n",
    "plt.show()"
   ]
  },
  {
   "cell_type": "code",
   "execution_count": 41,
   "metadata": {},
   "outputs": [
    {
     "data": {
      "image/png": "[encoded data removed]",
      "text/plain": [
       "<Figure size 640x480 with 1 Axes>"
      ]
     },
     "metadata": {},
     "output_type": "display_data"
    }
   ],
   "source": [
    "plt.hist(df['length_ratio'], bins=50)\n",
    "plt.show()"
   ]
  },
  {
   "cell_type": "code",
   "execution_count": 42,
   "metadata": {},
   "outputs": [
    {
     "name": "stdout",
     "output_type": "stream",
     "text": [
      "1.7657744766813528\n"
     ]
    }
   ],
   "source": [
    "print(df[df['expansions_ratio'] < 1]['length_ratio'].max())"
   ]
  },
  {
   "cell_type": "code",
   "execution_count": 43,
   "metadata": {},
   "outputs": [
    {
     "name": "stdout",
     "output_type": "stream",
     "text": [
      "2.043331299491888\n"
     ]
    }
   ],
   "source": [
    "print(df['length_ratio'].max())"
   ]
  },
  {
   "cell_type": "markdown",
   "metadata": {},
   "source": [
    "# Bug Traps"
   ]
  },
  {
   "cell_type": "code",
   "execution_count": 11,
   "metadata": {},
   "outputs": [
    {
     "name": "stderr",
     "output_type": "stream",
     "text": [
      "100%|████████████████████████████████████████████████████████████████████████████████████████████████████████| 4096/4096 [01:30<00:00, 45.26it/s]\n"
     ]
    }
   ],
   "source": [
    "dataset_path = '../HS_HW_TransPath/TransPath_AlekSet/train'\n",
    "dataset_path = './bug_traps/test'\n",
    "\n",
    "cells = np.load(f'{dataset_path}/maps.npy', mmap_mode='c')\n",
    "starts = np.load(f'{dataset_path}/starts.npy', mmap_mode='c')\n",
    "goals = np.load(f'{dataset_path}/goals.npy', mmap_mode='c')\n",
    "heuristics = np.load(f'{dataset_path}/predicted_cf_0.npy', mmap_mode='c')\n",
    "targets = np.load(f'{dataset_path}/cf.npy', mmap_mode='c')\n",
    "\n",
    "metrics = {'expansions_ratio' : [], 'length_ratio' : []}\n",
    "\n",
    "df = pd.read_csv('./bug_traps_astar_octile_tie_break_data.csv')\n",
    "\n",
    "for i in tqdm(range(cells.shape[0])):\n",
    "    map = Map(cells[i, 0])\n",
    "    start_i, start_j = np.where(starts[i, 0])\n",
    "    start_i, start_j = start_i[0], start_j[0]\n",
    "    goal_i, goal_j = np.where(goals[i, 0])\n",
    "    goal_i, goal_j = goal_i[0], goal_j[0]\n",
    "    data = wastar(map, start_i, start_j, goal_i, goal_j, octile_distance, heuristics[i, 0], SearchTreePQD)\n",
    "    assert data[0], draw(map, Node(start_i, start_j), Node(goal_i, goal_j))\n",
    "    path, length = make_path(data[1])\n",
    "    metrics['length_ratio'].append(length / df['path_length'][i])\n",
    "    metrics['expansions_ratio'].append(len(data[-1]) / df['expanded_nodes_num'][i])"
   ]
  },
  {
   "cell_type": "code",
   "execution_count": 58,
   "metadata": {},
   "outputs": [
    {
     "name": "stderr",
     "output_type": "stream",
     "text": [
      "/tmp/ipykernel_2154642/3792952004.py:57: RuntimeWarning: divide by zero encountered in scalar divide                    | 0/4096 [00:00<?, ?it/s]\n",
      "  cur_node = Node(neighbour[0], neighbour[1], g=(best.g + compute_cost(best.i, best.j, neighbour[0], neighbour[1])), h=heuristic_func(neighbour[0], neighbour[1], goal_i, goal_j) / heuristic[neighbour[0], neighbour[1]], parent=best)\n",
      "/tmp/ipykernel_2154642/1836098995.py:74: RuntimeWarning: invalid value encountered in scalar subtract\n",
      "  if abs(self.f - other.f) < epsilon: # tie-break\n",
      "/tmp/ipykernel_2154642/3792952004.py:43: RuntimeWarning: divide by zero encountered in scalar divide           | 27/4096 [00:01<02:39, 25.49it/s]\n",
      "  start_node = Node(start_i, start_j, g=0, h=heuristic_func(start_i, start_j, goal_i, goal_j) / heuristic[start_i, start_j])\n",
      "/tmp/ipykernel_2154642/3792952004.py:57: RuntimeWarning: invalid value encountered in scalar divide            | 73/4096 [00:03<02:28, 27.04it/s]\n",
      "  cur_node = Node(neighbour[0], neighbour[1], g=(best.g + compute_cost(best.i, best.j, neighbour[0], neighbour[1])), h=heuristic_func(neighbour[0], neighbour[1], goal_i, goal_j) / heuristic[neighbour[0], neighbour[1]], parent=best)\n",
      "100%|████████████████████████████████████████████████████████████████████████████████████████████████████████| 4096/4096 [03:09<00:00, 21.58it/s]\n"
     ]
    }
   ],
   "source": [
    "dataset_path = '../HS_HW_TransPath/TransPath_AlekSet/train'\n",
    "dataset_path = './bug_traps/test'\n",
    "\n",
    "cells = np.load(f'{dataset_path}/maps.npy', mmap_mode='c')\n",
    "starts = np.load(f'{dataset_path}/starts.npy', mmap_mode='c')\n",
    "goals = np.load(f'{dataset_path}/goals.npy', mmap_mode='c')\n",
    "heuristics = np.load(f'{dataset_path}/predicted_cf_default.npy', mmap_mode='c')\n",
    "targets = np.load(f'{dataset_path}/cf.npy', mmap_mode='c')\n",
    "\n",
    "metrics = {'expansions_ratio' : [], 'length_ratio' : []}\n",
    "\n",
    "default_df = pd.read_csv('./bug_traps_astar_octile_tie_break_data.csv')\n",
    "\n",
    "for i in tqdm(range(cells.shape[0])):\n",
    "    map = Map(cells[i, 0])\n",
    "    start_i, start_j = np.where(starts[i, 0])\n",
    "    start_i, start_j = start_i[0], start_j[0]\n",
    "    goal_i, goal_j = np.where(goals[i, 0])\n",
    "    goal_i, goal_j = goal_i[0], goal_j[0]\n",
    "    data = wastar(map, start_i, start_j, goal_i, goal_j, octile_distance, heuristics[i, 0], SearchTreePQD)\n",
    "    assert data[0], draw(map, Node(start_i, start_j), Node(goal_i, goal_j))\n",
    "    path, length = make_path(data[1])\n",
    "    metrics['length_ratio'].append(length / default_df['path_length'][i])\n",
    "    metrics['expansions_ratio'].append(len(data[-1]) / default_df['expanded_nodes_num'][i])"
   ]
  },
  {
   "cell_type": "code",
   "execution_count": 33,
   "metadata": {},
   "outputs": [
    {
     "name": "stderr",
     "output_type": "stream",
     "text": [
      "100%|████████████████████████████████████████████████████████████████████████████████████████████████████████| 4096/4096 [00:51<00:00, 79.83it/s]\n"
     ]
    }
   ],
   "source": [
    "dataset_path = '../HS_HW_TransPath/TransPath_AlekSet/train'\n",
    "dataset_path = './bug_traps/test'\n",
    "\n",
    "cells = np.load(f'{dataset_path}/maps.npy', mmap_mode='c')\n",
    "starts = np.load(f'{dataset_path}/starts.npy', mmap_mode='c')\n",
    "goals = np.load(f'{dataset_path}/goals.npy', mmap_mode='c')\n",
    "heuristics = np.load(f'{dataset_path}/predicted_cf_big_2.npy', mmap_mode='c')\n",
    "targets = np.load(f'{dataset_path}/cf.npy', mmap_mode='c')\n",
    "\n",
    "metrics = {'expansions_ratio' : [], 'length_ratio' : []}\n",
    "\n",
    "df = pd.read_csv('./bug_traps_astar_octile_tie_break_data.csv')\n",
    "\n",
    "for i in tqdm(range(cells.shape[0])):\n",
    "    map = Map(cells[i, 0])\n",
    "    start_i, start_j = np.where(starts[i, 0])\n",
    "    start_i, start_j = start_i[0], start_j[0]\n",
    "    goal_i, goal_j = np.where(goals[i, 0])\n",
    "    goal_i, goal_j = goal_i[0], goal_j[0]\n",
    "    data = wastar(map, start_i, start_j, goal_i, goal_j, octile_distance, heuristics[i, 0], SearchTreePQD)\n",
    "    assert data[0], draw(map, Node(start_i, start_j), Node(goal_i, goal_j))\n",
    "    path, length = make_path(data[1])\n",
    "    metrics['length_ratio'].append(length / df['path_length'][i])\n",
    "    metrics['expansions_ratio'].append(len(data[-1]) / df['expanded_nodes_num'][i])"
   ]
  },
  {
   "cell_type": "code",
   "execution_count": 34,
   "metadata": {},
   "outputs": [
    {
     "data": {
      "text/html": [
       "<div>\n",
       "<style scoped>\n",
       "    .dataframe tbody tr th:only-of-type {\n",
       "        vertical-align: middle;\n",
       "    }\n",
       "\n",
       "    .dataframe tbody tr th {\n",
       "        vertical-align: top;\n",
       "    }\n",
       "\n",
       "    .dataframe thead th {\n",
       "        text-align: right;\n",
       "    }\n",
       "</style>\n",
       "<table border=\"1\" class=\"dataframe\">\n",
       "  <thead>\n",
       "    <tr style=\"text-align: right;\">\n",
       "      <th></th>\n",
       "      <th>path_length</th>\n",
       "      <th>expanded_nodes_num</th>\n",
       "    </tr>\n",
       "  </thead>\n",
       "  <tbody>\n",
       "    <tr>\n",
       "      <th>0</th>\n",
       "      <td>74.455844</td>\n",
       "      <td>776</td>\n",
       "    </tr>\n",
       "    <tr>\n",
       "      <th>1</th>\n",
       "      <td>73.769553</td>\n",
       "      <td>760</td>\n",
       "    </tr>\n",
       "    <tr>\n",
       "      <th>2</th>\n",
       "      <td>81.870058</td>\n",
       "      <td>641</td>\n",
       "    </tr>\n",
       "    <tr>\n",
       "      <th>3</th>\n",
       "      <td>92.183766</td>\n",
       "      <td>832</td>\n",
       "    </tr>\n",
       "    <tr>\n",
       "      <th>4</th>\n",
       "      <td>62.355339</td>\n",
       "      <td>432</td>\n",
       "    </tr>\n",
       "  </tbody>\n",
       "</table>\n",
       "</div>"
      ],
      "text/plain": [
       "   path_length  expanded_nodes_num\n",
       "0    74.455844                 776\n",
       "1    73.769553                 760\n",
       "2    81.870058                 641\n",
       "3    92.183766                 832\n",
       "4    62.355339                 432"
      ]
     },
     "execution_count": 34,
     "metadata": {},
     "output_type": "execute_result"
    }
   ],
   "source": [
    "big_df = pd.DataFrame.from_dict(metrics)\n",
    "df.head()"
   ]
  },
  {
   "cell_type": "code",
   "execution_count": 12,
   "metadata": {},
   "outputs": [
    {
     "data": {
      "text/html": [
       "<div>\n",
       "<style scoped>\n",
       "    .dataframe tbody tr th:only-of-type {\n",
       "        vertical-align: middle;\n",
       "    }\n",
       "\n",
       "    .dataframe tbody tr th {\n",
       "        vertical-align: top;\n",
       "    }\n",
       "\n",
       "    .dataframe thead th {\n",
       "        text-align: right;\n",
       "    }\n",
       "</style>\n",
       "<table border=\"1\" class=\"dataframe\">\n",
       "  <thead>\n",
       "    <tr style=\"text-align: right;\">\n",
       "      <th></th>\n",
       "      <th>expansions_ratio</th>\n",
       "      <th>length_ratio</th>\n",
       "    </tr>\n",
       "  </thead>\n",
       "  <tbody>\n",
       "    <tr>\n",
       "      <th>0</th>\n",
       "      <td>0.938144</td>\n",
       "      <td>1.201066</td>\n",
       "    </tr>\n",
       "    <tr>\n",
       "      <th>1</th>\n",
       "      <td>1.518421</td>\n",
       "      <td>1.411888</td>\n",
       "    </tr>\n",
       "    <tr>\n",
       "      <th>2</th>\n",
       "      <td>0.661466</td>\n",
       "      <td>1.151274</td>\n",
       "    </tr>\n",
       "    <tr>\n",
       "      <th>3</th>\n",
       "      <td>0.712740</td>\n",
       "      <td>1.175108</td>\n",
       "    </tr>\n",
       "    <tr>\n",
       "      <th>4</th>\n",
       "      <td>1.018519</td>\n",
       "      <td>1.209622</td>\n",
       "    </tr>\n",
       "  </tbody>\n",
       "</table>\n",
       "</div>"
      ],
      "text/plain": [
       "   expansions_ratio  length_ratio\n",
       "0          0.938144      1.201066\n",
       "1          1.518421      1.411888\n",
       "2          0.661466      1.151274\n",
       "3          0.712740      1.175108\n",
       "4          1.018519      1.209622"
      ]
     },
     "execution_count": 12,
     "metadata": {},
     "output_type": "execute_result"
    }
   ],
   "source": [
    "df = pd.DataFrame.from_dict(metrics)\n",
    "df.head()"
   ]
  },
  {
   "cell_type": "code",
   "execution_count": 59,
   "metadata": {},
   "outputs": [
    {
     "data": {
      "text/html": [
       "<div>\n",
       "<style scoped>\n",
       "    .dataframe tbody tr th:only-of-type {\n",
       "        vertical-align: middle;\n",
       "    }\n",
       "\n",
       "    .dataframe tbody tr th {\n",
       "        vertical-align: top;\n",
       "    }\n",
       "\n",
       "    .dataframe thead th {\n",
       "        text-align: right;\n",
       "    }\n",
       "</style>\n",
       "<table border=\"1\" class=\"dataframe\">\n",
       "  <thead>\n",
       "    <tr style=\"text-align: right;\">\n",
       "      <th></th>\n",
       "      <th>expansions_ratio</th>\n",
       "      <th>length_ratio</th>\n",
       "    </tr>\n",
       "  </thead>\n",
       "  <tbody>\n",
       "    <tr>\n",
       "      <th>0</th>\n",
       "      <td>1.051546</td>\n",
       "      <td>1.251531</td>\n",
       "    </tr>\n",
       "    <tr>\n",
       "      <th>1</th>\n",
       "      <td>3.057895</td>\n",
       "      <td>1.384776</td>\n",
       "    </tr>\n",
       "    <tr>\n",
       "      <th>2</th>\n",
       "      <td>1.129485</td>\n",
       "      <td>1.391372</td>\n",
       "    </tr>\n",
       "    <tr>\n",
       "      <th>3</th>\n",
       "      <td>1.944712</td>\n",
       "      <td>1.696259</td>\n",
       "    </tr>\n",
       "    <tr>\n",
       "      <th>4</th>\n",
       "      <td>1.407407</td>\n",
       "      <td>1.553045</td>\n",
       "    </tr>\n",
       "  </tbody>\n",
       "</table>\n",
       "</div>"
      ],
      "text/plain": [
       "   expansions_ratio  length_ratio\n",
       "0          1.051546      1.251531\n",
       "1          3.057895      1.384776\n",
       "2          1.129485      1.391372\n",
       "3          1.944712      1.696259\n",
       "4          1.407407      1.553045"
      ]
     },
     "execution_count": 59,
     "metadata": {},
     "output_type": "execute_result"
    }
   ],
   "source": [
    "default_df = pd.DataFrame.from_dict(metrics)\n",
    "default_df.head()"
   ]
  },
  {
   "cell_type": "code",
   "execution_count": 19,
   "metadata": {},
   "outputs": [
    {
     "name": "stdout",
     "output_type": "stream",
     "text": [
      "0.989990234375\n"
     ]
    }
   ],
   "source": [
    "print((big_df['expansions_ratio'] < 1).mean())"
   ]
  },
  {
   "cell_type": "code",
   "execution_count": 60,
   "metadata": {},
   "outputs": [
    {
     "name": "stdout",
     "output_type": "stream",
     "text": [
      "0.283447265625\n"
     ]
    }
   ],
   "source": [
    "print((default_df['expansions_ratio'] < 1).mean())"
   ]
  },
  {
   "cell_type": "code",
   "execution_count": 13,
   "metadata": {},
   "outputs": [
    {
     "name": "stdout",
     "output_type": "stream",
     "text": [
      "0.690185546875\n"
     ]
    }
   ],
   "source": [
    "print((df['expansions_ratio'] < 1).mean())"
   ]
  },
  {
   "cell_type": "code",
   "execution_count": 35,
   "metadata": {},
   "outputs": [
    {
     "data": {
      "image/png": "[encoded data removed]",
      "text/plain": [
       "<Figure size 640x480 with 1 Axes>"
      ]
     },
     "metadata": {},
     "output_type": "display_data"
    }
   ],
   "source": [
    "plt.hist(big_df['expansions_ratio'], bins=50)\n",
    "plt.show()"
   ]
  },
  {
   "cell_type": "code",
   "execution_count": 61,
   "metadata": {},
   "outputs": [
    {
     "data": {
      "image/png": "[encoded data removed]",
      "text/plain": [
       "<Figure size 640x480 with 1 Axes>"
      ]
     },
     "metadata": {},
     "output_type": "display_data"
    }
   ],
   "source": [
    "plt.hist(default_df['expansions_ratio'], bins=50)\n",
    "plt.show()"
   ]
  },
  {
   "cell_type": "code",
   "execution_count": 14,
   "metadata": {},
   "outputs": [
    {
     "data": {
      "image/png": "[encoded data removed]",
      "text/plain": [
       "<Figure size 640x480 with 1 Axes>"
      ]
     },
     "metadata": {},
     "output_type": "display_data"
    }
   ],
   "source": [
    "plt.hist(df['expansions_ratio'], bins=50)\n",
    "plt.show()"
   ]
  },
  {
   "cell_type": "code",
   "execution_count": 26,
   "metadata": {},
   "outputs": [
    {
     "data": {
      "image/png": "[encoded data removed]",
      "text/plain": [
       "<Figure size 640x480 with 1 Axes>"
      ]
     },
     "metadata": {},
     "output_type": "display_data"
    }
   ],
   "source": [
    "plt.hist(big_df['length_ratio'], bins=50)\n",
    "plt.show()"
   ]
  },
  {
   "cell_type": "code",
   "execution_count": 62,
   "metadata": {},
   "outputs": [
    {
     "data": {
      "image/png": "[encoded data removed]",
      "text/plain": [
       "<Figure size 640x480 with 1 Axes>"
      ]
     },
     "metadata": {},
     "output_type": "display_data"
    }
   ],
   "source": [
    "plt.hist(default_df['length_ratio'], bins=50)\n",
    "plt.show()"
   ]
  },
  {
   "cell_type": "code",
   "execution_count": 15,
   "metadata": {},
   "outputs": [
    {
     "data": {
      "image/png": "[encoded data removed]",
      "text/plain": [
       "<Figure size 640x480 with 1 Axes>"
      ]
     },
     "metadata": {},
     "output_type": "display_data"
    }
   ],
   "source": [
    "plt.hist(df['length_ratio'], bins=50)\n",
    "plt.show()"
   ]
  },
  {
   "cell_type": "code",
   "execution_count": 27,
   "metadata": {},
   "outputs": [
    {
     "name": "stdout",
     "output_type": "stream",
     "text": [
      "1.440465874383604\n"
     ]
    }
   ],
   "source": [
    "print(big_df[big_df['expansions_ratio'] < 1]['length_ratio'].max())"
   ]
  },
  {
   "cell_type": "code",
   "execution_count": 63,
   "metadata": {},
   "outputs": [
    {
     "name": "stdout",
     "output_type": "stream",
     "text": [
      "2.956028036141887\n"
     ]
    }
   ],
   "source": [
    "print(default_df[default_df['expansions_ratio'] < 1]['length_ratio'].max())"
   ]
  },
  {
   "cell_type": "code",
   "execution_count": 16,
   "metadata": {},
   "outputs": [
    {
     "name": "stdout",
     "output_type": "stream",
     "text": [
      "1.8114443474103261\n"
     ]
    }
   ],
   "source": [
    "print(df[df['expansions_ratio'] < 1]['length_ratio'].max())"
   ]
  },
  {
   "cell_type": "code",
   "execution_count": 28,
   "metadata": {},
   "outputs": [
    {
     "name": "stdout",
     "output_type": "stream",
     "text": [
      "1.7651904437648323\n"
     ]
    }
   ],
   "source": [
    "print(big_df['length_ratio'].max())"
   ]
  },
  {
   "cell_type": "code",
   "execution_count": 64,
   "metadata": {},
   "outputs": [
    {
     "name": "stdout",
     "output_type": "stream",
     "text": [
      "4.668437236882734\n"
     ]
    }
   ],
   "source": [
    "print(default_df['length_ratio'].max())"
   ]
  },
  {
   "cell_type": "code",
   "execution_count": 17,
   "metadata": {},
   "outputs": [
    {
     "name": "stdout",
     "output_type": "stream",
     "text": [
      "2.283913971863063\n"
     ]
    }
   ],
   "source": [
    "print(df['length_ratio'].max())"
   ]
  },
  {
   "cell_type": "markdown",
   "metadata": {},
   "source": [
    "# Bands"
   ]
  },
  {
   "cell_type": "code",
   "execution_count": 12,
   "metadata": {},
   "outputs": [
    {
     "name": "stdout",
     "output_type": "stream",
     "text": [
      "The history saving thread hit an unexpected error (OperationalError('attempt to write a readonly database')).History will not be written to the database.\n"
     ]
    },
    {
     "name": "stderr",
     "output_type": "stream",
     "text": [
      "100%|████████████████████████████████████████████████████████████████████████████████████████████████████████| 4096/4096 [02:19<00:00, 29.29it/s]\n"
     ]
    }
   ],
   "source": [
    "dataset_path = '../HS_HW_TransPath/TransPath_AlekSet/train'\n",
    "dataset_path = './bands/test'\n",
    "\n",
    "cells = np.load(f'{dataset_path}/maps.npy', mmap_mode='c')\n",
    "starts = np.load(f'{dataset_path}/starts.npy', mmap_mode='c')\n",
    "goals = np.load(f'{dataset_path}/goals.npy', mmap_mode='c')\n",
    "heuristics = np.load(f'{dataset_path}/predicted_cf_0.npy', mmap_mode='c')\n",
    "targets = np.load(f'{dataset_path}/cf.npy', mmap_mode='c')\n",
    "\n",
    "metrics = {'expansions_ratio' : [], 'length_ratio' : []}\n",
    "\n",
    "df = pd.read_csv('./bands_astar_octile_tie_break_data.csv')\n",
    "\n",
    "for i in tqdm(range(cells.shape[0])):\n",
    "    map = Map(cells[i, 0])\n",
    "    start_i, start_j = np.where(starts[i, 0])\n",
    "    start_i, start_j = start_i[0], start_j[0]\n",
    "    goal_i, goal_j = np.where(goals[i, 0])\n",
    "    goal_i, goal_j = goal_i[0], goal_j[0]\n",
    "    data = wastar(map, start_i, start_j, goal_i, goal_j, octile_distance, heuristics[i, 0], SearchTreePQD)\n",
    "    assert data[0], draw(map, Node(start_i, start_j), Node(goal_i, goal_j))\n",
    "    path, length = make_path(data[1])\n",
    "    metrics['length_ratio'].append(length / df['path_length'][i])\n",
    "    metrics['expansions_ratio'].append(len(data[-1]) / df['expanded_nodes_num'][i])"
   ]
  },
  {
   "cell_type": "code",
   "execution_count": 65,
   "metadata": {},
   "outputs": [
    {
     "name": "stderr",
     "output_type": "stream",
     "text": [
      "/tmp/ipykernel_2154642/3792952004.py:57: RuntimeWarning: divide by zero encountered in scalar divide                    | 0/4096 [00:00<?, ?it/s]\n",
      "  cur_node = Node(neighbour[0], neighbour[1], g=(best.g + compute_cost(best.i, best.j, neighbour[0], neighbour[1])), h=heuristic_func(neighbour[0], neighbour[1], goal_i, goal_j) / heuristic[neighbour[0], neighbour[1]], parent=best)\n",
      "/tmp/ipykernel_2154642/1836098995.py:74: RuntimeWarning: invalid value encountered in scalar subtract\n",
      "  if abs(self.f - other.f) < epsilon: # tie-break\n",
      "/tmp/ipykernel_2154642/3792952004.py:43: RuntimeWarning: divide by zero encountered in scalar divide           | 10/4096 [00:00<04:48, 14.16it/s]\n",
      "  start_node = Node(start_i, start_j, g=0, h=heuristic_func(start_i, start_j, goal_i, goal_j) / heuristic[start_i, start_j])\n",
      "100%|████████████████████████████████████████████████████████████████████████████████████████████████████████| 4096/4096 [03:35<00:00, 18.98it/s]\n"
     ]
    }
   ],
   "source": [
    "dataset_path = '../HS_HW_TransPath/TransPath_AlekSet/train'\n",
    "dataset_path = './bands/test'\n",
    "\n",
    "cells = np.load(f'{dataset_path}/maps.npy', mmap_mode='c')\n",
    "starts = np.load(f'{dataset_path}/starts.npy', mmap_mode='c')\n",
    "goals = np.load(f'{dataset_path}/goals.npy', mmap_mode='c')\n",
    "heuristics = np.load(f'{dataset_path}/predicted_cf_default.npy', mmap_mode='c')\n",
    "targets = np.load(f'{dataset_path}/cf.npy', mmap_mode='c')\n",
    "\n",
    "metrics = {'expansions_ratio' : [], 'length_ratio' : []}\n",
    "\n",
    "default_df = pd.read_csv('./bands_astar_octile_tie_break_data.csv')\n",
    "\n",
    "for i in tqdm(range(cells.shape[0])):\n",
    "    map = Map(cells[i, 0])\n",
    "    start_i, start_j = np.where(starts[i, 0])\n",
    "    start_i, start_j = start_i[0], start_j[0]\n",
    "    goal_i, goal_j = np.where(goals[i, 0])\n",
    "    goal_i, goal_j = goal_i[0], goal_j[0]\n",
    "    data = wastar(map, start_i, start_j, goal_i, goal_j, octile_distance, heuristics[i, 0], SearchTreePQD)\n",
    "    assert data[0], draw(map, Node(start_i, start_j), Node(goal_i, goal_j))\n",
    "    path, length = make_path(data[1])\n",
    "    metrics['length_ratio'].append(length / default_df['path_length'][i])\n",
    "    metrics['expansions_ratio'].append(len(data[-1]) / default_df['expanded_nodes_num'][i])"
   ]
  },
  {
   "cell_type": "code",
   "execution_count": 12,
   "metadata": {},
   "outputs": [
    {
     "name": "stderr",
     "output_type": "stream",
     "text": [
      "/tmp/ipykernel_1341116/3792952004.py:57: RuntimeWarning: divide by zero encountered in scalar divide           | 17/4096 [00:00<03:22, 20.12it/s]\n",
      "  cur_node = Node(neighbour[0], neighbour[1], g=(best.g + compute_cost(best.i, best.j, neighbour[0], neighbour[1])), h=heuristic_func(neighbour[0], neighbour[1], goal_i, goal_j) / heuristic[neighbour[0], neighbour[1]], parent=best)\n",
      "/tmp/ipykernel_1341116/3792952004.py:57: RuntimeWarning: invalid value encountered in scalar divide            | 23/4096 [00:01<03:06, 21.89it/s]\n",
      "  cur_node = Node(neighbour[0], neighbour[1], g=(best.g + compute_cost(best.i, best.j, neighbour[0], neighbour[1])), h=heuristic_func(neighbour[0], neighbour[1], goal_i, goal_j) / heuristic[neighbour[0], neighbour[1]], parent=best)\n",
      "/tmp/ipykernel_1341116/1836098995.py:74: RuntimeWarning: invalid value encountered in scalar subtract          | 27/4096 [00:01<03:11, 21.28it/s]\n",
      "  if abs(self.f - other.f) < epsilon: # tie-break\n",
      "/tmp/ipykernel_1341116/3792952004.py:43: RuntimeWarning: divide by zero encountered in scalar divide          | 388/4096 [00:20<03:00, 20.53it/s]\n",
      "  start_node = Node(start_i, start_j, g=0, h=heuristic_func(start_i, start_j, goal_i, goal_j) / heuristic[start_i, start_j])\n",
      "100%|████████████████████████████████████████████████████████████████████████████████████████████████████████| 4096/4096 [03:25<00:00, 19.98it/s]\n"
     ]
    }
   ],
   "source": [
    "dataset_path = '../HS_HW_TransPath/TransPath_AlekSet/train'\n",
    "dataset_path = './bands/test'\n",
    "\n",
    "cells = np.load(f'{dataset_path}/maps.npy', mmap_mode='c')\n",
    "starts = np.load(f'{dataset_path}/starts.npy', mmap_mode='c')\n",
    "goals = np.load(f'{dataset_path}/goals.npy', mmap_mode='c')\n",
    "heuristics = np.load(f'{dataset_path}/predicted_cf_big_2.npy', mmap_mode='c')\n",
    "targets = np.load(f'{dataset_path}/cf.npy', mmap_mode='c')\n",
    "\n",
    "metrics = {'expansions_ratio' : [], 'length_ratio' : []}\n",
    "\n",
    "df = pd.read_csv('./bands_astar_octile_tie_break_data.csv')\n",
    "\n",
    "for i in tqdm(range(cells.shape[0])):\n",
    "    map = Map(cells[i, 0])\n",
    "    start_i, start_j = np.where(starts[i, 0])\n",
    "    start_i, start_j = start_i[0], start_j[0]\n",
    "    goal_i, goal_j = np.where(goals[i, 0])\n",
    "    goal_i, goal_j = goal_i[0], goal_j[0]\n",
    "    data = wastar(map, start_i, start_j, goal_i, goal_j, octile_distance, heuristics[i, 0], SearchTreePQD)\n",
    "    assert data[0], draw(map, Node(start_i, start_j), Node(goal_i, goal_j))\n",
    "    path, length = make_path(data[1])\n",
    "    metrics['length_ratio'].append(length / df['path_length'][i])\n",
    "    metrics['expansions_ratio'].append(len(data[-1]) / df['expanded_nodes_num'][i])"
   ]
  },
  {
   "cell_type": "code",
   "execution_count": 13,
   "metadata": {},
   "outputs": [
    {
     "data": {
      "text/html": [
       "<div>\n",
       "<style scoped>\n",
       "    .dataframe tbody tr th:only-of-type {\n",
       "        vertical-align: middle;\n",
       "    }\n",
       "\n",
       "    .dataframe tbody tr th {\n",
       "        vertical-align: top;\n",
       "    }\n",
       "\n",
       "    .dataframe thead th {\n",
       "        text-align: right;\n",
       "    }\n",
       "</style>\n",
       "<table border=\"1\" class=\"dataframe\">\n",
       "  <thead>\n",
       "    <tr style=\"text-align: right;\">\n",
       "      <th></th>\n",
       "      <th>path_length</th>\n",
       "      <th>expanded_nodes_num</th>\n",
       "    </tr>\n",
       "  </thead>\n",
       "  <tbody>\n",
       "    <tr>\n",
       "      <th>0</th>\n",
       "      <td>213.870058</td>\n",
       "      <td>1054</td>\n",
       "    </tr>\n",
       "    <tr>\n",
       "      <th>1</th>\n",
       "      <td>100.526912</td>\n",
       "      <td>1074</td>\n",
       "    </tr>\n",
       "    <tr>\n",
       "      <th>2</th>\n",
       "      <td>86.112698</td>\n",
       "      <td>746</td>\n",
       "    </tr>\n",
       "    <tr>\n",
       "      <th>3</th>\n",
       "      <td>104.183766</td>\n",
       "      <td>773</td>\n",
       "    </tr>\n",
       "    <tr>\n",
       "      <th>4</th>\n",
       "      <td>155.497475</td>\n",
       "      <td>1501</td>\n",
       "    </tr>\n",
       "  </tbody>\n",
       "</table>\n",
       "</div>"
      ],
      "text/plain": [
       "   path_length  expanded_nodes_num\n",
       "0   213.870058                1054\n",
       "1   100.526912                1074\n",
       "2    86.112698                 746\n",
       "3   104.183766                 773\n",
       "4   155.497475                1501"
      ]
     },
     "execution_count": 13,
     "metadata": {},
     "output_type": "execute_result"
    }
   ],
   "source": [
    "big_df = pd.DataFrame.from_dict(metrics)\n",
    "df.head()"
   ]
  },
  {
   "cell_type": "code",
   "execution_count": 13,
   "metadata": {},
   "outputs": [
    {
     "data": {
      "text/html": [
       "<div>\n",
       "<style scoped>\n",
       "    .dataframe tbody tr th:only-of-type {\n",
       "        vertical-align: middle;\n",
       "    }\n",
       "\n",
       "    .dataframe tbody tr th {\n",
       "        vertical-align: top;\n",
       "    }\n",
       "\n",
       "    .dataframe thead th {\n",
       "        text-align: right;\n",
       "    }\n",
       "</style>\n",
       "<table border=\"1\" class=\"dataframe\">\n",
       "  <thead>\n",
       "    <tr style=\"text-align: right;\">\n",
       "      <th></th>\n",
       "      <th>expansions_ratio</th>\n",
       "      <th>length_ratio</th>\n",
       "    </tr>\n",
       "  </thead>\n",
       "  <tbody>\n",
       "    <tr>\n",
       "      <th>0</th>\n",
       "      <td>1.000949</td>\n",
       "      <td>1.009351</td>\n",
       "    </tr>\n",
       "    <tr>\n",
       "      <th>1</th>\n",
       "      <td>0.400372</td>\n",
       "      <td>1.000000</td>\n",
       "    </tr>\n",
       "    <tr>\n",
       "      <th>2</th>\n",
       "      <td>0.197051</td>\n",
       "      <td>1.000000</td>\n",
       "    </tr>\n",
       "    <tr>\n",
       "      <th>3</th>\n",
       "      <td>0.443726</td>\n",
       "      <td>1.024819</td>\n",
       "    </tr>\n",
       "    <tr>\n",
       "      <th>4</th>\n",
       "      <td>0.353098</td>\n",
       "      <td>1.009095</td>\n",
       "    </tr>\n",
       "  </tbody>\n",
       "</table>\n",
       "</div>"
      ],
      "text/plain": [
       "   expansions_ratio  length_ratio\n",
       "0          1.000949      1.009351\n",
       "1          0.400372      1.000000\n",
       "2          0.197051      1.000000\n",
       "3          0.443726      1.024819\n",
       "4          0.353098      1.009095"
      ]
     },
     "execution_count": 13,
     "metadata": {},
     "output_type": "execute_result"
    }
   ],
   "source": [
    "df = pd.DataFrame.from_dict(metrics)\n",
    "df.head()"
   ]
  },
  {
   "cell_type": "code",
   "execution_count": 66,
   "metadata": {},
   "outputs": [
    {
     "data": {
      "text/html": [
       "<div>\n",
       "<style scoped>\n",
       "    .dataframe tbody tr th:only-of-type {\n",
       "        vertical-align: middle;\n",
       "    }\n",
       "\n",
       "    .dataframe tbody tr th {\n",
       "        vertical-align: top;\n",
       "    }\n",
       "\n",
       "    .dataframe thead th {\n",
       "        text-align: right;\n",
       "    }\n",
       "</style>\n",
       "<table border=\"1\" class=\"dataframe\">\n",
       "  <thead>\n",
       "    <tr style=\"text-align: right;\">\n",
       "      <th></th>\n",
       "      <th>expansions_ratio</th>\n",
       "      <th>length_ratio</th>\n",
       "    </tr>\n",
       "  </thead>\n",
       "  <tbody>\n",
       "    <tr>\n",
       "      <th>0</th>\n",
       "      <td>1.055028</td>\n",
       "      <td>1.111748</td>\n",
       "    </tr>\n",
       "    <tr>\n",
       "      <th>1</th>\n",
       "      <td>0.965549</td>\n",
       "      <td>1.795807</td>\n",
       "    </tr>\n",
       "    <tr>\n",
       "      <th>2</th>\n",
       "      <td>0.398123</td>\n",
       "      <td>1.203876</td>\n",
       "    </tr>\n",
       "    <tr>\n",
       "      <th>3</th>\n",
       "      <td>0.860285</td>\n",
       "      <td>1.088033</td>\n",
       "    </tr>\n",
       "    <tr>\n",
       "      <th>4</th>\n",
       "      <td>1.018654</td>\n",
       "      <td>1.011302</td>\n",
       "    </tr>\n",
       "  </tbody>\n",
       "</table>\n",
       "</div>"
      ],
      "text/plain": [
       "   expansions_ratio  length_ratio\n",
       "0          1.055028      1.111748\n",
       "1          0.965549      1.795807\n",
       "2          0.398123      1.203876\n",
       "3          0.860285      1.088033\n",
       "4          1.018654      1.011302"
      ]
     },
     "execution_count": 66,
     "metadata": {},
     "output_type": "execute_result"
    }
   ],
   "source": [
    "default_df = pd.DataFrame.from_dict(metrics)\n",
    "default_df.head()"
   ]
  },
  {
   "cell_type": "code",
   "execution_count": 14,
   "metadata": {},
   "outputs": [
    {
     "name": "stdout",
     "output_type": "stream",
     "text": [
      "0.81494140625\n"
     ]
    }
   ],
   "source": [
    "print((big_df['expansions_ratio'] < 1).mean())"
   ]
  },
  {
   "cell_type": "code",
   "execution_count": 67,
   "metadata": {},
   "outputs": [
    {
     "name": "stdout",
     "output_type": "stream",
     "text": [
      "0.766357421875\n"
     ]
    }
   ],
   "source": [
    "print((default_df['expansions_ratio'] < 1).mean())"
   ]
  },
  {
   "cell_type": "code",
   "execution_count": 14,
   "metadata": {},
   "outputs": [
    {
     "name": "stdout",
     "output_type": "stream",
     "text": [
      "0.949462890625\n"
     ]
    }
   ],
   "source": [
    "print((df['expansions_ratio'] < 1).mean())"
   ]
  },
  {
   "cell_type": "code",
   "execution_count": 34,
   "metadata": {},
   "outputs": [
    {
     "data": {
      "image/png": "[encoded data removed]",
      "text/plain": [
       "<Figure size 640x480 with 1 Axes>"
      ]
     },
     "metadata": {},
     "output_type": "display_data"
    }
   ],
   "source": [
    "plt.hist(big_df['expansions_ratio'], bins=50)\n",
    "plt.show()"
   ]
  },
  {
   "cell_type": "code",
   "execution_count": 68,
   "metadata": {},
   "outputs": [
    {
     "data": {
      "image/png": "[encoded data removed]",
      "text/plain": [
       "<Figure size 640x480 with 1 Axes>"
      ]
     },
     "metadata": {},
     "output_type": "display_data"
    }
   ],
   "source": [
    "plt.hist(default_df['expansions_ratio'], bins=50)\n",
    "plt.show()"
   ]
  },
  {
   "cell_type": "code",
   "execution_count": 15,
   "metadata": {},
   "outputs": [
    {
     "data": {
      "image/png": "[encoded data removed]",
      "text/plain": [
       "<Figure size 640x480 with 1 Axes>"
      ]
     },
     "metadata": {},
     "output_type": "display_data"
    }
   ],
   "source": [
    "plt.hist(df['expansions_ratio'], bins=50)\n",
    "plt.show()"
   ]
  },
  {
   "cell_type": "code",
   "execution_count": 35,
   "metadata": {},
   "outputs": [
    {
     "data": {
      "image/png": "[encoded data removed]",
      "text/plain": [
       "<Figure size 640x480 with 1 Axes>"
      ]
     },
     "metadata": {},
     "output_type": "display_data"
    }
   ],
   "source": [
    "plt.hist(big_df['length_ratio'], bins=50)\n",
    "plt.show()"
   ]
  },
  {
   "cell_type": "code",
   "execution_count": 69,
   "metadata": {},
   "outputs": [
    {
     "data": {
      "image/png": "[encoded data removed]",
      "text/plain": [
       "<Figure size 640x480 with 1 Axes>"
      ]
     },
     "metadata": {},
     "output_type": "display_data"
    }
   ],
   "source": [
    "plt.hist(default_df['length_ratio'], bins=50)\n",
    "plt.show()"
   ]
  },
  {
   "cell_type": "code",
   "execution_count": 16,
   "metadata": {},
   "outputs": [
    {
     "data": {
      "image/png": "[encoded data removed]",
      "text/plain": [
       "<Figure size 640x480 with 1 Axes>"
      ]
     },
     "metadata": {},
     "output_type": "display_data"
    }
   ],
   "source": [
    "plt.hist(df['length_ratio'], bins=50)\n",
    "plt.show()"
   ]
  },
  {
   "cell_type": "code",
   "execution_count": 37,
   "metadata": {},
   "outputs": [
    {
     "name": "stdout",
     "output_type": "stream",
     "text": [
      "1.6522641454669074\n"
     ]
    }
   ],
   "source": [
    "print(big_df[big_df['expansions_ratio'] < 1]['length_ratio'].max())"
   ]
  },
  {
   "cell_type": "code",
   "execution_count": 70,
   "metadata": {},
   "outputs": [
    {
     "name": "stdout",
     "output_type": "stream",
     "text": [
      "2.2338089236416083\n"
     ]
    }
   ],
   "source": [
    "print(default_df[default_df['expansions_ratio'] < 1]['length_ratio'].max())"
   ]
  },
  {
   "cell_type": "code",
   "execution_count": 17,
   "metadata": {},
   "outputs": [
    {
     "name": "stdout",
     "output_type": "stream",
     "text": [
      "1.1083107934525749\n"
     ]
    }
   ],
   "source": [
    "print(df[df['expansions_ratio'] < 1]['length_ratio'].max())"
   ]
  },
  {
   "cell_type": "code",
   "execution_count": 38,
   "metadata": {},
   "outputs": [
    {
     "name": "stdout",
     "output_type": "stream",
     "text": [
      "1.6648825908167981\n"
     ]
    }
   ],
   "source": [
    "print(big_df['length_ratio'].max())"
   ]
  },
  {
   "cell_type": "code",
   "execution_count": 72,
   "metadata": {},
   "outputs": [
    {
     "name": "stdout",
     "output_type": "stream",
     "text": [
      "2.2338089236416083\n"
     ]
    }
   ],
   "source": [
    "print(default_df['length_ratio'].max())"
   ]
  },
  {
   "cell_type": "code",
   "execution_count": 18,
   "metadata": {},
   "outputs": [
    {
     "name": "stdout",
     "output_type": "stream",
     "text": [
      "1.1083107934525749\n"
     ]
    }
   ],
   "source": [
    "print(df['length_ratio'].max())"
   ]
  },
  {
   "cell_type": "markdown",
   "metadata": {},
   "source": [
    "# Caves"
   ]
  },
  {
   "cell_type": "code",
   "execution_count": 21,
   "metadata": {},
   "outputs": [
    {
     "name": "stderr",
     "output_type": "stream",
     "text": [
      "100%|███████████████████████████████████████████████████████████████████████████████████████████████████████| 4096/4096 [00:19<00:00, 207.23it/s]\n"
     ]
    }
   ],
   "source": [
    "dataset_path = '../HS_HW_TransPath/TransPath_AlekSet/train'\n",
    "dataset_path = './caves/test'\n",
    "\n",
    "cells = np.load(f'{dataset_path}/maps.npy', mmap_mode='c')\n",
    "starts = np.load(f'{dataset_path}/starts.npy', mmap_mode='c')\n",
    "goals = np.load(f'{dataset_path}/goals.npy', mmap_mode='c')\n",
    "heuristics = np.load(f'{dataset_path}/predicted_cf_0.npy', mmap_mode='c')\n",
    "targets = np.load(f'{dataset_path}/cf.npy', mmap_mode='c')\n",
    "\n",
    "metrics = {'expansions_ratio' : [], 'length_ratio' : []}\n",
    "\n",
    "df = pd.read_csv('./caves_astar_octile_tie_break_data.csv')\n",
    "\n",
    "for i in tqdm(range(cells.shape[0])):\n",
    "    map = Map(cells[i, 0])\n",
    "    start_i, start_j = np.where(starts[i, 0])\n",
    "    start_i, start_j = start_i[0], start_j[0]\n",
    "    goal_i, goal_j = np.where(goals[i, 0])\n",
    "    goal_i, goal_j = goal_i[0], goal_j[0]\n",
    "    data = wastar(map, start_i, start_j, goal_i, goal_j, octile_distance, heuristics[i, 0], SearchTreePQD)\n",
    "    assert data[0], draw(map, Node(start_i, start_j), Node(goal_i, goal_j))\n",
    "    path, length = make_path(data[1])\n",
    "    metrics['length_ratio'].append(length / df['path_length'][i])\n",
    "    metrics['expansions_ratio'].append(len(data[-1]) / df['expanded_nodes_num'][i])"
   ]
  },
  {
   "cell_type": "code",
   "execution_count": 73,
   "metadata": {},
   "outputs": [
    {
     "name": "stderr",
     "output_type": "stream",
     "text": [
      "/tmp/ipykernel_2154642/3792952004.py:43: RuntimeWarning: divide by zero encountered in scalar divide          | 81/4096 [00:00<00:29, 134.14it/s]\n",
      "  start_node = Node(start_i, start_j, g=0, h=heuristic_func(start_i, start_j, goal_i, goal_j) / heuristic[start_i, start_j])\n",
      "/tmp/ipykernel_2154642/3792952004.py:57: RuntimeWarning: divide by zero encountered in scalar divide\n",
      "  cur_node = Node(neighbour[0], neighbour[1], g=(best.g + compute_cost(best.i, best.j, neighbour[0], neighbour[1])), h=heuristic_func(neighbour[0], neighbour[1], goal_i, goal_j) / heuristic[neighbour[0], neighbour[1]], parent=best)\n",
      "/tmp/ipykernel_2154642/1836098995.py:74: RuntimeWarning: invalid value encountered in scalar subtract\n",
      "  if abs(self.f - other.f) < epsilon: # tie-break\n",
      "100%|███████████████████████████████████████████████████████████████████████████████████████████████████████| 4096/4096 [00:32<00:00, 125.11it/s]\n"
     ]
    }
   ],
   "source": [
    "dataset_path = '../HS_HW_TransPath/TransPath_AlekSet/train'\n",
    "dataset_path = './caves/test'\n",
    "\n",
    "cells = np.load(f'{dataset_path}/maps.npy', mmap_mode='c')\n",
    "starts = np.load(f'{dataset_path}/starts.npy', mmap_mode='c')\n",
    "goals = np.load(f'{dataset_path}/goals.npy', mmap_mode='c')\n",
    "heuristics = np.load(f'{dataset_path}/predicted_cf_default.npy', mmap_mode='c')\n",
    "targets = np.load(f'{dataset_path}/cf.npy', mmap_mode='c')\n",
    "\n",
    "metrics = {'expansions_ratio' : [], 'length_ratio' : []}\n",
    "\n",
    "default_df = pd.read_csv('./caves_astar_octile_tie_break_data.csv')\n",
    "\n",
    "for i in tqdm(range(cells.shape[0])):\n",
    "    map = Map(cells[i, 0])\n",
    "    start_i, start_j = np.where(starts[i, 0])\n",
    "    start_i, start_j = start_i[0], start_j[0]\n",
    "    goal_i, goal_j = np.where(goals[i, 0])\n",
    "    goal_i, goal_j = goal_i[0], goal_j[0]\n",
    "    data = wastar(map, start_i, start_j, goal_i, goal_j, octile_distance, heuristics[i, 0], SearchTreePQD)\n",
    "    assert data[0], draw(map, Node(start_i, start_j), Node(goal_i, goal_j))\n",
    "    path, length = make_path(data[1])\n",
    "    metrics['length_ratio'].append(length / default_df['path_length'][i])\n",
    "    metrics['expansions_ratio'].append(len(data[-1]) / default_df['expanded_nodes_num'][i])"
   ]
  },
  {
   "cell_type": "code",
   "execution_count": 36,
   "metadata": {},
   "outputs": [
    {
     "name": "stderr",
     "output_type": "stream",
     "text": [
      " 10%|██████████                                                                                               | 392/4096 [00:04<00:43, 84.62it/s]\n"
     ]
    },
    {
     "ename": "KeyboardInterrupt",
     "evalue": "",
     "output_type": "error",
     "traceback": [
      "\u001b[0;31m---------------------------------------------------------------------------\u001b[0m",
      "\u001b[0;31mKeyboardInterrupt\u001b[0m                         Traceback (most recent call last)",
      "Cell \u001b[0;32mIn[36], line 20\u001b[0m\n\u001b[1;32m     18\u001b[0m goal_i, goal_j \u001b[38;5;241m=\u001b[39m np\u001b[38;5;241m.\u001b[39mwhere(goals[i, \u001b[38;5;241m0\u001b[39m])\n\u001b[1;32m     19\u001b[0m goal_i, goal_j \u001b[38;5;241m=\u001b[39m goal_i[\u001b[38;5;241m0\u001b[39m], goal_j[\u001b[38;5;241m0\u001b[39m]\n\u001b[0;32m---> 20\u001b[0m data \u001b[38;5;241m=\u001b[39m \u001b[43mwastar\u001b[49m\u001b[43m(\u001b[49m\u001b[38;5;28;43mmap\u001b[39;49m\u001b[43m,\u001b[49m\u001b[43m \u001b[49m\u001b[43mstart_i\u001b[49m\u001b[43m,\u001b[49m\u001b[43m \u001b[49m\u001b[43mstart_j\u001b[49m\u001b[43m,\u001b[49m\u001b[43m \u001b[49m\u001b[43mgoal_i\u001b[49m\u001b[43m,\u001b[49m\u001b[43m \u001b[49m\u001b[43mgoal_j\u001b[49m\u001b[43m,\u001b[49m\u001b[43m \u001b[49m\u001b[43moctile_distance\u001b[49m\u001b[43m,\u001b[49m\u001b[43m \u001b[49m\u001b[43mheuristics\u001b[49m\u001b[43m[\u001b[49m\u001b[43mi\u001b[49m\u001b[43m,\u001b[49m\u001b[43m \u001b[49m\u001b[38;5;241;43m0\u001b[39;49m\u001b[43m]\u001b[49m\u001b[43m,\u001b[49m\u001b[43m \u001b[49m\u001b[43mSearchTreePQD\u001b[49m\u001b[43m)\u001b[49m\n\u001b[1;32m     21\u001b[0m \u001b[38;5;28;01massert\u001b[39;00m data[\u001b[38;5;241m0\u001b[39m], draw(\u001b[38;5;28mmap\u001b[39m, Node(start_i, start_j), Node(goal_i, goal_j))\n\u001b[1;32m     22\u001b[0m path, length \u001b[38;5;241m=\u001b[39m make_path(data[\u001b[38;5;241m1\u001b[39m])\n",
      "Cell \u001b[0;32mIn[8], line 57\u001b[0m, in \u001b[0;36mwastar\u001b[0;34m(task_map, start_i, start_j, goal_i, goal_j, heuristic_func, heuristic, search_tree)\u001b[0m\n\u001b[1;32m     55\u001b[0m neighbours \u001b[38;5;241m=\u001b[39m task_map\u001b[38;5;241m.\u001b[39mget_neighbors(best\u001b[38;5;241m.\u001b[39mi, best\u001b[38;5;241m.\u001b[39mj)\n\u001b[1;32m     56\u001b[0m \u001b[38;5;28;01mfor\u001b[39;00m neighbour \u001b[38;5;129;01min\u001b[39;00m neighbours:\n\u001b[0;32m---> 57\u001b[0m     cur_node \u001b[38;5;241m=\u001b[39m Node(neighbour[\u001b[38;5;241m0\u001b[39m], neighbour[\u001b[38;5;241m1\u001b[39m], g\u001b[38;5;241m=\u001b[39m(best\u001b[38;5;241m.\u001b[39mg \u001b[38;5;241m+\u001b[39m compute_cost(best\u001b[38;5;241m.\u001b[39mi, best\u001b[38;5;241m.\u001b[39mj, neighbour[\u001b[38;5;241m0\u001b[39m], neighbour[\u001b[38;5;241m1\u001b[39m])), h\u001b[38;5;241m=\u001b[39mheuristic_func(neighbour[\u001b[38;5;241m0\u001b[39m], neighbour[\u001b[38;5;241m1\u001b[39m], goal_i, goal_j) \u001b[38;5;241m/\u001b[39m \u001b[43mheuristic\u001b[49m\u001b[43m[\u001b[49m\u001b[43mneighbour\u001b[49m\u001b[43m[\u001b[49m\u001b[38;5;241;43m0\u001b[39;49m\u001b[43m]\u001b[49m\u001b[43m,\u001b[49m\u001b[43m \u001b[49m\u001b[43mneighbour\u001b[49m\u001b[43m[\u001b[49m\u001b[38;5;241;43m1\u001b[39;49m\u001b[43m]\u001b[49m\u001b[43m]\u001b[49m, parent\u001b[38;5;241m=\u001b[39mbest)\n\u001b[1;32m     58\u001b[0m     \u001b[38;5;28;01mif\u001b[39;00m \u001b[38;5;129;01mnot\u001b[39;00m ast\u001b[38;5;241m.\u001b[39mwas_expanded(cur_node):\n\u001b[1;32m     59\u001b[0m         ast\u001b[38;5;241m.\u001b[39madd_to_open(cur_node)\n",
      "File \u001b[0;32m~/miniconda3/lib/python3.12/site-packages/numpy/_core/memmap.py:358\u001b[0m, in \u001b[0;36mmemmap.__getitem__\u001b[0;34m(self, index)\u001b[0m\n\u001b[1;32m    357\u001b[0m \u001b[38;5;28;01mdef\u001b[39;00m\u001b[38;5;250m \u001b[39m\u001b[38;5;21m__getitem__\u001b[39m(\u001b[38;5;28mself\u001b[39m, index):\n\u001b[0;32m--> 358\u001b[0m     res \u001b[38;5;241m=\u001b[39m \u001b[38;5;28;43msuper\u001b[39;49m\u001b[43m(\u001b[49m\u001b[43m)\u001b[49m\u001b[38;5;241;43m.\u001b[39;49m\u001b[38;5;21;43m__getitem__\u001b[39;49m\u001b[43m(\u001b[49m\u001b[43mindex\u001b[49m\u001b[43m)\u001b[49m\n\u001b[1;32m    359\u001b[0m     \u001b[38;5;28;01mif\u001b[39;00m \u001b[38;5;28mtype\u001b[39m(res) \u001b[38;5;129;01mis\u001b[39;00m memmap \u001b[38;5;129;01mand\u001b[39;00m res\u001b[38;5;241m.\u001b[39m_mmap \u001b[38;5;129;01mis\u001b[39;00m \u001b[38;5;28;01mNone\u001b[39;00m:\n\u001b[1;32m    360\u001b[0m         \u001b[38;5;28;01mreturn\u001b[39;00m res\u001b[38;5;241m.\u001b[39mview(\u001b[38;5;28mtype\u001b[39m\u001b[38;5;241m=\u001b[39mndarray)\n",
      "\u001b[0;31mKeyboardInterrupt\u001b[0m: "
     ]
    }
   ],
   "source": [
    "dataset_path = '../HS_HW_TransPath/TransPath_AlekSet/train'\n",
    "dataset_path = './caves/test'\n",
    "\n",
    "cells = np.load(f'{dataset_path}/maps.npy', mmap_mode='c')\n",
    "starts = np.load(f'{dataset_path}/starts.npy', mmap_mode='c')\n",
    "goals = np.load(f'{dataset_path}/goals.npy', mmap_mode='c')\n",
    "heuristics = np.load(f'{dataset_path}/predicted_cf_big_2.npy', mmap_mode='c')\n",
    "targets = np.load(f'{dataset_path}/cf.npy', mmap_mode='c')\n",
    "\n",
    "metrics = {'expansions_ratio' : [], 'length_ratio' : []}\n",
    "\n",
    "df = pd.read_csv('./caves_astar_octile_tie_break_data.csv')\n",
    "\n",
    "for i in tqdm(range(cells.shape[0])):\n",
    "    map = Map(cells[i, 0])\n",
    "    start_i, start_j = np.where(starts[i, 0])\n",
    "    start_i, start_j = start_i[0], start_j[0]\n",
    "    goal_i, goal_j = np.where(goals[i, 0])\n",
    "    goal_i, goal_j = goal_i[0], goal_j[0]\n",
    "    data = wastar(map, start_i, start_j, goal_i, goal_j, octile_distance, heuristics[i, 0], SearchTreePQD)\n",
    "    assert data[0], draw(map, Node(start_i, start_j), Node(goal_i, goal_j))\n",
    "    path, length = make_path(data[1])\n",
    "    metrics['length_ratio'].append(length / df['path_length'][i])\n",
    "    metrics['expansions_ratio'].append(len(data[-1]) / df['expanded_nodes_num'][i])"
   ]
  },
  {
   "cell_type": "code",
   "execution_count": 23,
   "metadata": {},
   "outputs": [
    {
     "data": {
      "text/html": [
       "<div>\n",
       "<style scoped>\n",
       "    .dataframe tbody tr th:only-of-type {\n",
       "        vertical-align: middle;\n",
       "    }\n",
       "\n",
       "    .dataframe tbody tr th {\n",
       "        vertical-align: top;\n",
       "    }\n",
       "\n",
       "    .dataframe thead th {\n",
       "        text-align: right;\n",
       "    }\n",
       "</style>\n",
       "<table border=\"1\" class=\"dataframe\">\n",
       "  <thead>\n",
       "    <tr style=\"text-align: right;\">\n",
       "      <th></th>\n",
       "      <th>expansions_ratio</th>\n",
       "      <th>length_ratio</th>\n",
       "    </tr>\n",
       "  </thead>\n",
       "  <tbody>\n",
       "    <tr>\n",
       "      <th>0</th>\n",
       "      <td>0.894366</td>\n",
       "      <td>1.033787</td>\n",
       "    </tr>\n",
       "    <tr>\n",
       "      <th>1</th>\n",
       "      <td>0.883853</td>\n",
       "      <td>1.087884</td>\n",
       "    </tr>\n",
       "    <tr>\n",
       "      <th>2</th>\n",
       "      <td>0.424116</td>\n",
       "      <td>1.113656</td>\n",
       "    </tr>\n",
       "    <tr>\n",
       "      <th>3</th>\n",
       "      <td>1.233083</td>\n",
       "      <td>1.195563</td>\n",
       "    </tr>\n",
       "    <tr>\n",
       "      <th>4</th>\n",
       "      <td>1.238532</td>\n",
       "      <td>1.044427</td>\n",
       "    </tr>\n",
       "  </tbody>\n",
       "</table>\n",
       "</div>"
      ],
      "text/plain": [
       "   expansions_ratio  length_ratio\n",
       "0          0.894366      1.033787\n",
       "1          0.883853      1.087884\n",
       "2          0.424116      1.113656\n",
       "3          1.233083      1.195563\n",
       "4          1.238532      1.044427"
      ]
     },
     "execution_count": 23,
     "metadata": {},
     "output_type": "execute_result"
    }
   ],
   "source": [
    "big_df = pd.DataFrame.from_dict(metrics)\n",
    "big_df.head()"
   ]
  },
  {
   "cell_type": "code",
   "execution_count": 22,
   "metadata": {},
   "outputs": [
    {
     "data": {
      "text/html": [
       "<div>\n",
       "<style scoped>\n",
       "    .dataframe tbody tr th:only-of-type {\n",
       "        vertical-align: middle;\n",
       "    }\n",
       "\n",
       "    .dataframe tbody tr th {\n",
       "        vertical-align: top;\n",
       "    }\n",
       "\n",
       "    .dataframe thead th {\n",
       "        text-align: right;\n",
       "    }\n",
       "</style>\n",
       "<table border=\"1\" class=\"dataframe\">\n",
       "  <thead>\n",
       "    <tr style=\"text-align: right;\">\n",
       "      <th></th>\n",
       "      <th>expansions_ratio</th>\n",
       "      <th>length_ratio</th>\n",
       "    </tr>\n",
       "  </thead>\n",
       "  <tbody>\n",
       "    <tr>\n",
       "      <th>0</th>\n",
       "      <td>0.492958</td>\n",
       "      <td>1.000000</td>\n",
       "    </tr>\n",
       "    <tr>\n",
       "      <th>1</th>\n",
       "      <td>0.249292</td>\n",
       "      <td>1.000000</td>\n",
       "    </tr>\n",
       "    <tr>\n",
       "      <th>2</th>\n",
       "      <td>0.259875</td>\n",
       "      <td>1.026169</td>\n",
       "    </tr>\n",
       "    <tr>\n",
       "      <th>3</th>\n",
       "      <td>0.518797</td>\n",
       "      <td>1.000000</td>\n",
       "    </tr>\n",
       "    <tr>\n",
       "      <th>4</th>\n",
       "      <td>0.871560</td>\n",
       "      <td>1.000000</td>\n",
       "    </tr>\n",
       "  </tbody>\n",
       "</table>\n",
       "</div>"
      ],
      "text/plain": [
       "   expansions_ratio  length_ratio\n",
       "0          0.492958      1.000000\n",
       "1          0.249292      1.000000\n",
       "2          0.259875      1.026169\n",
       "3          0.518797      1.000000\n",
       "4          0.871560      1.000000"
      ]
     },
     "execution_count": 22,
     "metadata": {},
     "output_type": "execute_result"
    }
   ],
   "source": [
    "df = pd.DataFrame.from_dict(metrics)\n",
    "df.head()"
   ]
  },
  {
   "cell_type": "code",
   "execution_count": 74,
   "metadata": {},
   "outputs": [
    {
     "data": {
      "text/html": [
       "<div>\n",
       "<style scoped>\n",
       "    .dataframe tbody tr th:only-of-type {\n",
       "        vertical-align: middle;\n",
       "    }\n",
       "\n",
       "    .dataframe tbody tr th {\n",
       "        vertical-align: top;\n",
       "    }\n",
       "\n",
       "    .dataframe thead th {\n",
       "        text-align: right;\n",
       "    }\n",
       "</style>\n",
       "<table border=\"1\" class=\"dataframe\">\n",
       "  <thead>\n",
       "    <tr style=\"text-align: right;\">\n",
       "      <th></th>\n",
       "      <th>expansions_ratio</th>\n",
       "      <th>length_ratio</th>\n",
       "    </tr>\n",
       "  </thead>\n",
       "  <tbody>\n",
       "    <tr>\n",
       "      <th>0</th>\n",
       "      <td>0.760563</td>\n",
       "      <td>1.038453</td>\n",
       "    </tr>\n",
       "    <tr>\n",
       "      <th>1</th>\n",
       "      <td>0.294618</td>\n",
       "      <td>1.010662</td>\n",
       "    </tr>\n",
       "    <tr>\n",
       "      <th>2</th>\n",
       "      <td>0.297297</td>\n",
       "      <td>1.018504</td>\n",
       "    </tr>\n",
       "    <tr>\n",
       "      <th>3</th>\n",
       "      <td>0.812030</td>\n",
       "      <td>1.019362</td>\n",
       "    </tr>\n",
       "    <tr>\n",
       "      <th>4</th>\n",
       "      <td>1.467890</td>\n",
       "      <td>1.061032</td>\n",
       "    </tr>\n",
       "  </tbody>\n",
       "</table>\n",
       "</div>"
      ],
      "text/plain": [
       "   expansions_ratio  length_ratio\n",
       "0          0.760563      1.038453\n",
       "1          0.294618      1.010662\n",
       "2          0.297297      1.018504\n",
       "3          0.812030      1.019362\n",
       "4          1.467890      1.061032"
      ]
     },
     "execution_count": 74,
     "metadata": {},
     "output_type": "execute_result"
    }
   ],
   "source": [
    "default_df = pd.DataFrame.from_dict(metrics)\n",
    "default_df.head()"
   ]
  },
  {
   "cell_type": "code",
   "execution_count": 24,
   "metadata": {},
   "outputs": [
    {
     "name": "stdout",
     "output_type": "stream",
     "text": [
      "0.526611328125\n"
     ]
    }
   ],
   "source": [
    "print((big_df['expansions_ratio'] < 1).mean())"
   ]
  },
  {
   "cell_type": "code",
   "execution_count": 75,
   "metadata": {},
   "outputs": [
    {
     "name": "stdout",
     "output_type": "stream",
     "text": [
      "0.734619140625\n"
     ]
    }
   ],
   "source": [
    "print((default_df['expansions_ratio'] < 1).mean())"
   ]
  },
  {
   "cell_type": "code",
   "execution_count": 23,
   "metadata": {},
   "outputs": [
    {
     "name": "stdout",
     "output_type": "stream",
     "text": [
      "0.9697265625\n"
     ]
    }
   ],
   "source": [
    "print((df['expansions_ratio'] < 1).mean())"
   ]
  },
  {
   "cell_type": "code",
   "execution_count": 76,
   "metadata": {},
   "outputs": [
    {
     "data": {
      "image/png": "[encoded data removed]",
      "text/plain": [
       "<Figure size 640x480 with 1 Axes>"
      ]
     },
     "metadata": {},
     "output_type": "display_data"
    }
   ],
   "source": [
    "plt.hist(default_df['expansions_ratio'], bins=50)\n",
    "plt.show()"
   ]
  },
  {
   "cell_type": "code",
   "execution_count": 24,
   "metadata": {},
   "outputs": [
    {
     "data": {
      "image/png": "[encoded data removed]",
      "text/plain": [
       "<Figure size 640x480 with 1 Axes>"
      ]
     },
     "metadata": {},
     "output_type": "display_data"
    }
   ],
   "source": [
    "plt.hist(df['expansions_ratio'], bins=50)\n",
    "plt.show()"
   ]
  },
  {
   "cell_type": "code",
   "execution_count": 77,
   "metadata": {},
   "outputs": [
    {
     "data": {
      "image/png": "[encoded data removed]",
      "text/plain": [
       "<Figure size 640x480 with 1 Axes>"
      ]
     },
     "metadata": {},
     "output_type": "display_data"
    }
   ],
   "source": [
    "plt.hist(default_df['length_ratio'], bins=50)\n",
    "plt.show()"
   ]
  },
  {
   "cell_type": "code",
   "execution_count": 25,
   "metadata": {},
   "outputs": [
    {
     "data": {
      "image/png": "[encoded data removed]",
      "text/plain": [
       "<Figure size 640x480 with 1 Axes>"
      ]
     },
     "metadata": {},
     "output_type": "display_data"
    }
   ],
   "source": [
    "plt.hist(df['length_ratio'], bins=50)\n",
    "plt.show()"
   ]
  },
  {
   "cell_type": "code",
   "execution_count": 80,
   "metadata": {},
   "outputs": [
    {
     "name": "stdout",
     "output_type": "stream",
     "text": [
      "1.978016364280888\n"
     ]
    }
   ],
   "source": [
    "print(default_df[default_df['expansions_ratio'] < 1]['length_ratio'].max())"
   ]
  },
  {
   "cell_type": "code",
   "execution_count": 26,
   "metadata": {},
   "outputs": [
    {
     "name": "stdout",
     "output_type": "stream",
     "text": [
      "1.3494022864536126\n"
     ]
    }
   ],
   "source": [
    "print(df[df['expansions_ratio'] < 1]['length_ratio'].max())"
   ]
  },
  {
   "cell_type": "code",
   "execution_count": 81,
   "metadata": {},
   "outputs": [
    {
     "name": "stdout",
     "output_type": "stream",
     "text": [
      "2.3894901664965706\n"
     ]
    }
   ],
   "source": [
    "print(default_df['length_ratio'].max())"
   ]
  },
  {
   "cell_type": "code",
   "execution_count": 27,
   "metadata": {},
   "outputs": [
    {
     "name": "stdout",
     "output_type": "stream",
     "text": [
      "1.8659342936383059\n"
     ]
    }
   ],
   "source": [
    "print(df['length_ratio'].max())"
   ]
  },
  {
   "cell_type": "markdown",
   "metadata": {},
   "source": [
    "# Islands"
   ]
  },
  {
   "cell_type": "code",
   "execution_count": 31,
   "metadata": {},
   "outputs": [
    {
     "name": "stderr",
     "output_type": "stream",
     "text": [
      "100%|███████████████████████████████████████████████████████████████████████████████████████████████████████| 4096/4096 [00:30<00:00, 134.20it/s]\n"
     ]
    }
   ],
   "source": [
    "dataset_path = '../HS_HW_TransPath/TransPath_AlekSet/train'\n",
    "dataset_path = './islands/test'\n",
    "\n",
    "cells = np.load(f'{dataset_path}/maps.npy', mmap_mode='c')\n",
    "starts = np.load(f'{dataset_path}/starts.npy', mmap_mode='c')\n",
    "goals = np.load(f'{dataset_path}/goals.npy', mmap_mode='c')\n",
    "heuristics = np.load(f'{dataset_path}/predicted_cf_0.npy', mmap_mode='c')\n",
    "targets = np.load(f'{dataset_path}/cf.npy', mmap_mode='c')\n",
    "\n",
    "metrics = {'expansions_ratio' : [], 'length_ratio' : []}\n",
    "\n",
    "df = pd.read_csv('./islands_astar_octile_tie_break_data.csv')\n",
    "\n",
    "for i in tqdm(range(cells.shape[0])):\n",
    "    map = Map(cells[i, 0])\n",
    "    start_i, start_j = np.where(starts[i, 0])\n",
    "    start_i, start_j = start_i[0], start_j[0]\n",
    "    goal_i, goal_j = np.where(goals[i, 0])\n",
    "    goal_i, goal_j = goal_i[0], goal_j[0]\n",
    "    data = wastar(map, start_i, start_j, goal_i, goal_j, octile_distance, heuristics[i, 0], SearchTreePQD)\n",
    "    assert data[0], draw(map, Node(start_i, start_j), Node(goal_i, goal_j))\n",
    "    path, length = make_path(data[1])\n",
    "    metrics['length_ratio'].append(length / df['path_length'][i])\n",
    "    metrics['expansions_ratio'].append(len(data[-1]) / df['expanded_nodes_num'][i])"
   ]
  },
  {
   "cell_type": "code",
   "execution_count": 82,
   "metadata": {},
   "outputs": [
    {
     "name": "stderr",
     "output_type": "stream",
     "text": [
      "/tmp/ipykernel_2154642/3792952004.py:57: RuntimeWarning: divide by zero encountered in scalar divide           | 26/4096 [00:00<00:44, 91.06it/s]\n",
      "  cur_node = Node(neighbour[0], neighbour[1], g=(best.g + compute_cost(best.i, best.j, neighbour[0], neighbour[1])), h=heuristic_func(neighbour[0], neighbour[1], goal_i, goal_j) / heuristic[neighbour[0], neighbour[1]], parent=best)\n",
      "/tmp/ipykernel_2154642/1836098995.py:74: RuntimeWarning: invalid value encountered in scalar subtract          | 47/4096 [00:00<00:43, 94.11it/s]\n",
      "  if abs(self.f - other.f) < epsilon: # tie-break\n",
      "/tmp/ipykernel_2154642/3792952004.py:43: RuntimeWarning: divide by zero encountered in scalar divide          | 760/4096 [00:08<00:38, 86.68it/s]\n",
      "  start_node = Node(start_i, start_j, g=0, h=heuristic_func(start_i, start_j, goal_i, goal_j) / heuristic[start_i, start_j])\n",
      "100%|████████████████████████████████████████████████████████████████████████████████████████████████████████| 4096/4096 [00:46<00:00, 87.41it/s]\n"
     ]
    }
   ],
   "source": [
    "dataset_path = '../HS_HW_TransPath/TransPath_AlekSet/train'\n",
    "dataset_path = './islands/test'\n",
    "\n",
    "cells = np.load(f'{dataset_path}/maps.npy', mmap_mode='c')\n",
    "starts = np.load(f'{dataset_path}/starts.npy', mmap_mode='c')\n",
    "goals = np.load(f'{dataset_path}/goals.npy', mmap_mode='c')\n",
    "heuristics = np.load(f'{dataset_path}/predicted_cf_default.npy', mmap_mode='c')\n",
    "targets = np.load(f'{dataset_path}/cf.npy', mmap_mode='c')\n",
    "\n",
    "metrics = {'expansions_ratio' : [], 'length_ratio' : []}\n",
    "\n",
    "default_df = pd.read_csv('./islands_astar_octile_tie_break_data.csv')\n",
    "\n",
    "for i in tqdm(range(cells.shape[0])):\n",
    "    map = Map(cells[i, 0])\n",
    "    start_i, start_j = np.where(starts[i, 0])\n",
    "    start_i, start_j = start_i[0], start_j[0]\n",
    "    goal_i, goal_j = np.where(goals[i, 0])\n",
    "    goal_i, goal_j = goal_i[0], goal_j[0]\n",
    "    data = wastar(map, start_i, start_j, goal_i, goal_j, octile_distance, heuristics[i, 0], SearchTreePQD)\n",
    "    assert data[0], draw(map, Node(start_i, start_j), Node(goal_i, goal_j))\n",
    "    path, length = make_path(data[1])\n",
    "    metrics['length_ratio'].append(length / default_df['path_length'][i])\n",
    "    metrics['expansions_ratio'].append(len(data[-1]) / default_df['expanded_nodes_num'][i])"
   ]
  },
  {
   "cell_type": "code",
   "execution_count": 27,
   "metadata": {},
   "outputs": [
    {
     "name": "stderr",
     "output_type": "stream",
     "text": [
      "/tmp/ipykernel_1341116/3792952004.py:57: RuntimeWarning: divide by zero encountered in scalar divide           | 80/4096 [00:00<00:46, 86.70it/s]\n",
      "  cur_node = Node(neighbour[0], neighbour[1], g=(best.g + compute_cost(best.i, best.j, neighbour[0], neighbour[1])), h=heuristic_func(neighbour[0], neighbour[1], goal_i, goal_j) / heuristic[neighbour[0], neighbour[1]], parent=best)\n",
      "/tmp/ipykernel_1341116/1836098995.py:74: RuntimeWarning: invalid value encountered in scalar subtract         | 574/4096 [00:06<00:37, 94.43it/s]\n",
      "  if abs(self.f - other.f) < epsilon: # tie-break\n",
      "100%|████████████████████████████████████████████████████████████████████████████████████████████████████████| 4096/4096 [00:47<00:00, 85.86it/s]\n"
     ]
    }
   ],
   "source": [
    "dataset_path = '../HS_HW_TransPath/TransPath_AlekSet/train'\n",
    "dataset_path = './islands/test'\n",
    "\n",
    "cells = np.load(f'{dataset_path}/maps.npy', mmap_mode='c')\n",
    "starts = np.load(f'{dataset_path}/starts.npy', mmap_mode='c')\n",
    "goals = np.load(f'{dataset_path}/goals.npy', mmap_mode='c')\n",
    "heuristics = np.load(f'{dataset_path}/predicted_cf_big_2.npy', mmap_mode='c')\n",
    "targets = np.load(f'{dataset_path}/cf.npy', mmap_mode='c')\n",
    "\n",
    "metrics = {'expansions_ratio' : [], 'length_ratio' : []}\n",
    "\n",
    "df = pd.read_csv('./islands_astar_octile_tie_break_data.csv')\n",
    "\n",
    "for i in tqdm(range(cells.shape[0])):\n",
    "    map = Map(cells[i, 0])\n",
    "    start_i, start_j = np.where(starts[i, 0])\n",
    "    start_i, start_j = start_i[0], start_j[0]\n",
    "    goal_i, goal_j = np.where(goals[i, 0])\n",
    "    goal_i, goal_j = goal_i[0], goal_j[0]\n",
    "    data = wastar(map, start_i, start_j, goal_i, goal_j, octile_distance, heuristics[i, 0], SearchTreePQD)\n",
    "    assert data[0], draw(map, Node(start_i, start_j), Node(goal_i, goal_j))\n",
    "    path, length = make_path(data[1])\n",
    "    metrics['length_ratio'].append(length / df['path_length'][i])\n",
    "    metrics['expansions_ratio'].append(len(data[-1]) / df['expanded_nodes_num'][i])"
   ]
  },
  {
   "cell_type": "code",
   "execution_count": 28,
   "metadata": {},
   "outputs": [
    {
     "data": {
      "text/html": [
       "<div>\n",
       "<style scoped>\n",
       "    .dataframe tbody tr th:only-of-type {\n",
       "        vertical-align: middle;\n",
       "    }\n",
       "\n",
       "    .dataframe tbody tr th {\n",
       "        vertical-align: top;\n",
       "    }\n",
       "\n",
       "    .dataframe thead th {\n",
       "        text-align: right;\n",
       "    }\n",
       "</style>\n",
       "<table border=\"1\" class=\"dataframe\">\n",
       "  <thead>\n",
       "    <tr style=\"text-align: right;\">\n",
       "      <th></th>\n",
       "      <th>expansions_ratio</th>\n",
       "      <th>length_ratio</th>\n",
       "    </tr>\n",
       "  </thead>\n",
       "  <tbody>\n",
       "    <tr>\n",
       "      <th>0</th>\n",
       "      <td>1.803571</td>\n",
       "      <td>1.820895</td>\n",
       "    </tr>\n",
       "    <tr>\n",
       "      <th>1</th>\n",
       "      <td>1.582857</td>\n",
       "      <td>1.459804</td>\n",
       "    </tr>\n",
       "    <tr>\n",
       "      <th>2</th>\n",
       "      <td>0.501247</td>\n",
       "      <td>1.173486</td>\n",
       "    </tr>\n",
       "    <tr>\n",
       "      <th>3</th>\n",
       "      <td>0.889313</td>\n",
       "      <td>1.098155</td>\n",
       "    </tr>\n",
       "    <tr>\n",
       "      <th>4</th>\n",
       "      <td>0.554745</td>\n",
       "      <td>1.075729</td>\n",
       "    </tr>\n",
       "  </tbody>\n",
       "</table>\n",
       "</div>"
      ],
      "text/plain": [
       "   expansions_ratio  length_ratio\n",
       "0          1.803571      1.820895\n",
       "1          1.582857      1.459804\n",
       "2          0.501247      1.173486\n",
       "3          0.889313      1.098155\n",
       "4          0.554745      1.075729"
      ]
     },
     "execution_count": 28,
     "metadata": {},
     "output_type": "execute_result"
    }
   ],
   "source": [
    "big_df = pd.DataFrame.from_dict(metrics)\n",
    "big_df.head()"
   ]
  },
  {
   "cell_type": "code",
   "execution_count": 32,
   "metadata": {},
   "outputs": [
    {
     "data": {
      "text/html": [
       "<div>\n",
       "<style scoped>\n",
       "    .dataframe tbody tr th:only-of-type {\n",
       "        vertical-align: middle;\n",
       "    }\n",
       "\n",
       "    .dataframe tbody tr th {\n",
       "        vertical-align: top;\n",
       "    }\n",
       "\n",
       "    .dataframe thead th {\n",
       "        text-align: right;\n",
       "    }\n",
       "</style>\n",
       "<table border=\"1\" class=\"dataframe\">\n",
       "  <thead>\n",
       "    <tr style=\"text-align: right;\">\n",
       "      <th></th>\n",
       "      <th>expansions_ratio</th>\n",
       "      <th>length_ratio</th>\n",
       "    </tr>\n",
       "  </thead>\n",
       "  <tbody>\n",
       "    <tr>\n",
       "      <th>0</th>\n",
       "      <td>1.458333</td>\n",
       "      <td>1.653782</td>\n",
       "    </tr>\n",
       "    <tr>\n",
       "      <th>1</th>\n",
       "      <td>1.080000</td>\n",
       "      <td>1.000000</td>\n",
       "    </tr>\n",
       "    <tr>\n",
       "      <th>2</th>\n",
       "      <td>1.102244</td>\n",
       "      <td>1.323083</td>\n",
       "    </tr>\n",
       "    <tr>\n",
       "      <th>3</th>\n",
       "      <td>0.916031</td>\n",
       "      <td>1.280461</td>\n",
       "    </tr>\n",
       "    <tr>\n",
       "      <th>4</th>\n",
       "      <td>0.669100</td>\n",
       "      <td>1.140368</td>\n",
       "    </tr>\n",
       "  </tbody>\n",
       "</table>\n",
       "</div>"
      ],
      "text/plain": [
       "   expansions_ratio  length_ratio\n",
       "0          1.458333      1.653782\n",
       "1          1.080000      1.000000\n",
       "2          1.102244      1.323083\n",
       "3          0.916031      1.280461\n",
       "4          0.669100      1.140368"
      ]
     },
     "execution_count": 32,
     "metadata": {},
     "output_type": "execute_result"
    }
   ],
   "source": [
    "df = pd.DataFrame.from_dict(metrics)\n",
    "df.head()"
   ]
  },
  {
   "cell_type": "code",
   "execution_count": 83,
   "metadata": {},
   "outputs": [
    {
     "data": {
      "text/html": [
       "<div>\n",
       "<style scoped>\n",
       "    .dataframe tbody tr th:only-of-type {\n",
       "        vertical-align: middle;\n",
       "    }\n",
       "\n",
       "    .dataframe tbody tr th {\n",
       "        vertical-align: top;\n",
       "    }\n",
       "\n",
       "    .dataframe thead th {\n",
       "        text-align: right;\n",
       "    }\n",
       "</style>\n",
       "<table border=\"1\" class=\"dataframe\">\n",
       "  <thead>\n",
       "    <tr style=\"text-align: right;\">\n",
       "      <th></th>\n",
       "      <th>expansions_ratio</th>\n",
       "      <th>length_ratio</th>\n",
       "    </tr>\n",
       "  </thead>\n",
       "  <tbody>\n",
       "    <tr>\n",
       "      <th>0</th>\n",
       "      <td>1.476190</td>\n",
       "      <td>1.693776</td>\n",
       "    </tr>\n",
       "    <tr>\n",
       "      <th>1</th>\n",
       "      <td>0.851429</td>\n",
       "      <td>1.106738</td>\n",
       "    </tr>\n",
       "    <tr>\n",
       "      <th>2</th>\n",
       "      <td>0.992519</td>\n",
       "      <td>1.161542</td>\n",
       "    </tr>\n",
       "    <tr>\n",
       "      <th>3</th>\n",
       "      <td>1.003817</td>\n",
       "      <td>1.038651</td>\n",
       "    </tr>\n",
       "    <tr>\n",
       "      <th>4</th>\n",
       "      <td>1.109489</td>\n",
       "      <td>1.323194</td>\n",
       "    </tr>\n",
       "  </tbody>\n",
       "</table>\n",
       "</div>"
      ],
      "text/plain": [
       "   expansions_ratio  length_ratio\n",
       "0          1.476190      1.693776\n",
       "1          0.851429      1.106738\n",
       "2          0.992519      1.161542\n",
       "3          1.003817      1.038651\n",
       "4          1.109489      1.323194"
      ]
     },
     "execution_count": 83,
     "metadata": {},
     "output_type": "execute_result"
    }
   ],
   "source": [
    "default_df = pd.DataFrame.from_dict(metrics)\n",
    "default_df.head()"
   ]
  },
  {
   "cell_type": "code",
   "execution_count": 29,
   "metadata": {},
   "outputs": [
    {
     "name": "stdout",
     "output_type": "stream",
     "text": [
      "0.42724609375\n"
     ]
    }
   ],
   "source": [
    "print((big_df['expansions_ratio'] < 1).mean())"
   ]
  },
  {
   "cell_type": "code",
   "execution_count": 84,
   "metadata": {},
   "outputs": [
    {
     "name": "stdout",
     "output_type": "stream",
     "text": [
      "0.406982421875\n"
     ]
    }
   ],
   "source": [
    "print((default_df['expansions_ratio'] < 1).mean())"
   ]
  },
  {
   "cell_type": "code",
   "execution_count": 33,
   "metadata": {},
   "outputs": [
    {
     "name": "stdout",
     "output_type": "stream",
     "text": [
      "0.7578125\n"
     ]
    }
   ],
   "source": [
    "print((df['expansions_ratio'] < 1).mean())"
   ]
  },
  {
   "cell_type": "code",
   "execution_count": 85,
   "metadata": {},
   "outputs": [
    {
     "data": {
      "image/png": "[encoded data removed]",
      "text/plain": [
       "<Figure size 640x480 with 1 Axes>"
      ]
     },
     "metadata": {},
     "output_type": "display_data"
    }
   ],
   "source": [
    "plt.hist(default_df['expansions_ratio'], bins=50)\n",
    "plt.show()"
   ]
  },
  {
   "cell_type": "code",
   "execution_count": 35,
   "metadata": {},
   "outputs": [
    {
     "data": {
      "image/png": "[encoded data removed]",
      "text/plain": [
       "<Figure size 640x480 with 1 Axes>"
      ]
     },
     "metadata": {},
     "output_type": "display_data"
    }
   ],
   "source": [
    "plt.hist(df['expansions_ratio'], bins=50)\n",
    "plt.show()"
   ]
  },
  {
   "cell_type": "code",
   "execution_count": 86,
   "metadata": {},
   "outputs": [
    {
     "data": {
      "image/png": "[encoded data removed]",
      "text/plain": [
       "<Figure size 640x480 with 1 Axes>"
      ]
     },
     "metadata": {},
     "output_type": "display_data"
    }
   ],
   "source": [
    "plt.hist(default_df['length_ratio'], bins=50)\n",
    "plt.show()"
   ]
  },
  {
   "cell_type": "code",
   "execution_count": 34,
   "metadata": {},
   "outputs": [
    {
     "data": {
      "image/png": "[encoded data removed]",
      "text/plain": [
       "<Figure size 640x480 with 1 Axes>"
      ]
     },
     "metadata": {},
     "output_type": "display_data"
    }
   ],
   "source": [
    "plt.hist(df['length_ratio'], bins=50)\n",
    "plt.show()"
   ]
  },
  {
   "cell_type": "code",
   "execution_count": 87,
   "metadata": {},
   "outputs": [
    {
     "name": "stdout",
     "output_type": "stream",
     "text": [
      "1.750069711229375\n"
     ]
    }
   ],
   "source": [
    "print(default_df[default_df['expansions_ratio'] < 1]['length_ratio'].max())"
   ]
  },
  {
   "cell_type": "code",
   "execution_count": 36,
   "metadata": {},
   "outputs": [
    {
     "name": "stdout",
     "output_type": "stream",
     "text": [
      "1.4858662064633075\n"
     ]
    }
   ],
   "source": [
    "print(df[df['expansions_ratio'] < 1]['length_ratio'].max())"
   ]
  },
  {
   "cell_type": "code",
   "execution_count": 88,
   "metadata": {},
   "outputs": [
    {
     "name": "stdout",
     "output_type": "stream",
     "text": [
      "3.4583823242595093\n"
     ]
    }
   ],
   "source": [
    "print(default_df['length_ratio'].max())"
   ]
  },
  {
   "cell_type": "code",
   "execution_count": 37,
   "metadata": {},
   "outputs": [
    {
     "name": "stdout",
     "output_type": "stream",
     "text": [
      "2.262357449578861\n"
     ]
    }
   ],
   "source": [
    "print(df['length_ratio'].max())"
   ]
  },
  {
   "cell_type": "markdown",
   "metadata": {},
   "source": [
    "# QRs"
   ]
  },
  {
   "cell_type": "code",
   "execution_count": 40,
   "metadata": {},
   "outputs": [
    {
     "name": "stderr",
     "output_type": "stream",
     "text": [
      "/tmp/ipykernel_2154642/3792952004.py:43: RuntimeWarning: divide by zero encountered in scalar divide          | 174/4096 [00:02<00:51, 76.75it/s]\n",
      "  start_node = Node(start_i, start_j, g=0, h=heuristic_func(start_i, start_j, goal_i, goal_j) / heuristic[start_i, start_j])\n",
      "/tmp/ipykernel_2154642/3792952004.py:57: RuntimeWarning: divide by zero encountered in scalar divide\n",
      "  cur_node = Node(neighbour[0], neighbour[1], g=(best.g + compute_cost(best.i, best.j, neighbour[0], neighbour[1])), h=heuristic_func(neighbour[0], neighbour[1], goal_i, goal_j) / heuristic[neighbour[0], neighbour[1]], parent=best)\n",
      "/tmp/ipykernel_2154642/1836098995.py:74: RuntimeWarning: invalid value encountered in scalar subtract\n",
      "  if abs(self.f - other.f) < epsilon: # tie-break\n",
      "100%|████████████████████████████████████████████████████████████████████████████████████████████████████████| 4096/4096 [00:50<00:00, 80.94it/s]\n"
     ]
    }
   ],
   "source": [
    "dataset_path = '../HS_HW_TransPath/TransPath_AlekSet/train'\n",
    "dataset_path = './QRs/test'\n",
    "\n",
    "cells = np.load(f'{dataset_path}/maps.npy', mmap_mode='c')\n",
    "starts = np.load(f'{dataset_path}/starts.npy', mmap_mode='c')\n",
    "goals = np.load(f'{dataset_path}/goals.npy', mmap_mode='c')\n",
    "heuristics = np.load(f'{dataset_path}/predicted_cf_0.npy', mmap_mode='c')\n",
    "targets = np.load(f'{dataset_path}/cf.npy', mmap_mode='c')\n",
    "\n",
    "metrics = {'expansions_ratio' : [], 'length_ratio' : []}\n",
    "\n",
    "df = pd.read_csv('./QRs_astar_octile_tie_break_data.csv')\n",
    "\n",
    "for i in tqdm(range(cells.shape[0])):\n",
    "    map = Map(cells[i, 0])\n",
    "    start_i, start_j = np.where(starts[i, 0])\n",
    "    start_i, start_j = start_i[0], start_j[0]\n",
    "    goal_i, goal_j = np.where(goals[i, 0])\n",
    "    goal_i, goal_j = goal_i[0], goal_j[0]\n",
    "    data = wastar(map, start_i, start_j, goal_i, goal_j, octile_distance, heuristics[i, 0], SearchTreePQD)\n",
    "    assert data[0], draw(map, Node(start_i, start_j), Node(goal_i, goal_j))\n",
    "    path, length = make_path(data[1])\n",
    "    metrics['length_ratio'].append(length / df['path_length'][i])\n",
    "    metrics['expansions_ratio'].append(len(data[-1]) / df['expanded_nodes_num'][i])"
   ]
  },
  {
   "cell_type": "code",
   "execution_count": 89,
   "metadata": {},
   "outputs": [
    {
     "name": "stderr",
     "output_type": "stream",
     "text": [
      "/tmp/ipykernel_2154642/3792952004.py:57: RuntimeWarning: divide by zero encountered in scalar divide                    | 0/4096 [00:00<?, ?it/s]\n",
      "  cur_node = Node(neighbour[0], neighbour[1], g=(best.g + compute_cost(best.i, best.j, neighbour[0], neighbour[1])), h=heuristic_func(neighbour[0], neighbour[1], goal_i, goal_j) / heuristic[neighbour[0], neighbour[1]], parent=best)\n",
      "/tmp/ipykernel_2154642/3792952004.py:43: RuntimeWarning: divide by zero encountered in scalar divide\n",
      "  start_node = Node(start_i, start_j, g=0, h=heuristic_func(start_i, start_j, goal_i, goal_j) / heuristic[start_i, start_j])\n",
      "/tmp/ipykernel_2154642/1836098995.py:74: RuntimeWarning: invalid value encountered in scalar subtract\n",
      "  if abs(self.f - other.f) < epsilon: # tie-break\n",
      "/tmp/ipykernel_2154642/3792952004.py:57: RuntimeWarning: invalid value encountered in scalar divide            | 12/4096 [00:00<02:25, 28.10it/s]\n",
      "  cur_node = Node(neighbour[0], neighbour[1], g=(best.g + compute_cost(best.i, best.j, neighbour[0], neighbour[1])), h=heuristic_func(neighbour[0], neighbour[1], goal_i, goal_j) / heuristic[neighbour[0], neighbour[1]], parent=best)\n",
      "100%|████████████████████████████████████████████████████████████████████████████████████████████████████████| 4096/4096 [01:57<00:00, 34.99it/s]\n"
     ]
    }
   ],
   "source": [
    "dataset_path = '../HS_HW_TransPath/TransPath_AlekSet/train'\n",
    "dataset_path = './QRs/test'\n",
    "\n",
    "cells = np.load(f'{dataset_path}/maps.npy', mmap_mode='c')\n",
    "starts = np.load(f'{dataset_path}/starts.npy', mmap_mode='c')\n",
    "goals = np.load(f'{dataset_path}/goals.npy', mmap_mode='c')\n",
    "heuristics = np.load(f'{dataset_path}/predicted_cf_default.npy', mmap_mode='c')\n",
    "targets = np.load(f'{dataset_path}/cf.npy', mmap_mode='c')\n",
    "\n",
    "metrics = {'expansions_ratio' : [], 'length_ratio' : []}\n",
    "\n",
    "default_df = pd.read_csv('./QRs_astar_octile_tie_break_data.csv')\n",
    "\n",
    "for i in tqdm(range(cells.shape[0])):\n",
    "    map = Map(cells[i, 0])\n",
    "    start_i, start_j = np.where(starts[i, 0])\n",
    "    start_i, start_j = start_i[0], start_j[0]\n",
    "    goal_i, goal_j = np.where(goals[i, 0])\n",
    "    goal_i, goal_j = goal_i[0], goal_j[0]\n",
    "    data = wastar(map, start_i, start_j, goal_i, goal_j, octile_distance, heuristics[i, 0], SearchTreePQD)\n",
    "    assert data[0], draw(map, Node(start_i, start_j), Node(goal_i, goal_j))\n",
    "    path, length = make_path(data[1])\n",
    "    metrics['length_ratio'].append(length / default_df['path_length'][i])\n",
    "    metrics['expansions_ratio'].append(len(data[-1]) / default_df['expanded_nodes_num'][i])"
   ]
  },
  {
   "cell_type": "code",
   "execution_count": 41,
   "metadata": {},
   "outputs": [
    {
     "data": {
      "text/html": [
       "<div>\n",
       "<style scoped>\n",
       "    .dataframe tbody tr th:only-of-type {\n",
       "        vertical-align: middle;\n",
       "    }\n",
       "\n",
       "    .dataframe tbody tr th {\n",
       "        vertical-align: top;\n",
       "    }\n",
       "\n",
       "    .dataframe thead th {\n",
       "        text-align: right;\n",
       "    }\n",
       "</style>\n",
       "<table border=\"1\" class=\"dataframe\">\n",
       "  <thead>\n",
       "    <tr style=\"text-align: right;\">\n",
       "      <th></th>\n",
       "      <th>expansions_ratio</th>\n",
       "      <th>length_ratio</th>\n",
       "    </tr>\n",
       "  </thead>\n",
       "  <tbody>\n",
       "    <tr>\n",
       "      <th>0</th>\n",
       "      <td>0.642857</td>\n",
       "      <td>1.000000</td>\n",
       "    </tr>\n",
       "    <tr>\n",
       "      <th>1</th>\n",
       "      <td>0.659836</td>\n",
       "      <td>1.403274</td>\n",
       "    </tr>\n",
       "    <tr>\n",
       "      <th>2</th>\n",
       "      <td>0.553047</td>\n",
       "      <td>1.339789</td>\n",
       "    </tr>\n",
       "    <tr>\n",
       "      <th>3</th>\n",
       "      <td>2.815574</td>\n",
       "      <td>1.767906</td>\n",
       "    </tr>\n",
       "    <tr>\n",
       "      <th>4</th>\n",
       "      <td>0.958929</td>\n",
       "      <td>1.265102</td>\n",
       "    </tr>\n",
       "  </tbody>\n",
       "</table>\n",
       "</div>"
      ],
      "text/plain": [
       "   expansions_ratio  length_ratio\n",
       "0          0.642857      1.000000\n",
       "1          0.659836      1.403274\n",
       "2          0.553047      1.339789\n",
       "3          2.815574      1.767906\n",
       "4          0.958929      1.265102"
      ]
     },
     "execution_count": 41,
     "metadata": {},
     "output_type": "execute_result"
    }
   ],
   "source": [
    "df = pd.DataFrame.from_dict(metrics)\n",
    "df.head()"
   ]
  },
  {
   "cell_type": "code",
   "execution_count": 90,
   "metadata": {},
   "outputs": [
    {
     "data": {
      "text/html": [
       "<div>\n",
       "<style scoped>\n",
       "    .dataframe tbody tr th:only-of-type {\n",
       "        vertical-align: middle;\n",
       "    }\n",
       "\n",
       "    .dataframe tbody tr th {\n",
       "        vertical-align: top;\n",
       "    }\n",
       "\n",
       "    .dataframe thead th {\n",
       "        text-align: right;\n",
       "    }\n",
       "</style>\n",
       "<table border=\"1\" class=\"dataframe\">\n",
       "  <thead>\n",
       "    <tr style=\"text-align: right;\">\n",
       "      <th></th>\n",
       "      <th>expansions_ratio</th>\n",
       "      <th>length_ratio</th>\n",
       "    </tr>\n",
       "  </thead>\n",
       "  <tbody>\n",
       "    <tr>\n",
       "      <th>0</th>\n",
       "      <td>2.142857</td>\n",
       "      <td>1.000000</td>\n",
       "    </tr>\n",
       "    <tr>\n",
       "      <th>1</th>\n",
       "      <td>1.459016</td>\n",
       "      <td>1.298906</td>\n",
       "    </tr>\n",
       "    <tr>\n",
       "      <th>2</th>\n",
       "      <td>1.205418</td>\n",
       "      <td>1.284732</td>\n",
       "    </tr>\n",
       "    <tr>\n",
       "      <th>3</th>\n",
       "      <td>3.856557</td>\n",
       "      <td>1.436424</td>\n",
       "    </tr>\n",
       "    <tr>\n",
       "      <th>4</th>\n",
       "      <td>1.267857</td>\n",
       "      <td>1.364811</td>\n",
       "    </tr>\n",
       "  </tbody>\n",
       "</table>\n",
       "</div>"
      ],
      "text/plain": [
       "   expansions_ratio  length_ratio\n",
       "0          2.142857      1.000000\n",
       "1          1.459016      1.298906\n",
       "2          1.205418      1.284732\n",
       "3          3.856557      1.436424\n",
       "4          1.267857      1.364811"
      ]
     },
     "execution_count": 90,
     "metadata": {},
     "output_type": "execute_result"
    }
   ],
   "source": [
    "default_df = pd.DataFrame.from_dict(metrics)\n",
    "default_df.head()"
   ]
  },
  {
   "cell_type": "code",
   "execution_count": 91,
   "metadata": {},
   "outputs": [
    {
     "name": "stdout",
     "output_type": "stream",
     "text": [
      "0.139892578125\n"
     ]
    }
   ],
   "source": [
    "print((default_df['expansions_ratio'] < 1).mean())"
   ]
  },
  {
   "cell_type": "code",
   "execution_count": 42,
   "metadata": {},
   "outputs": [
    {
     "name": "stdout",
     "output_type": "stream",
     "text": [
      "0.5537109375\n"
     ]
    }
   ],
   "source": [
    "print((df['expansions_ratio'] < 1).mean())"
   ]
  },
  {
   "cell_type": "code",
   "execution_count": 92,
   "metadata": {},
   "outputs": [
    {
     "data": {
      "image/png": "[encoded data removed]",
      "text/plain": [
       "<Figure size 640x480 with 1 Axes>"
      ]
     },
     "metadata": {},
     "output_type": "display_data"
    }
   ],
   "source": [
    "plt.hist(default_df['expansions_ratio'], bins=50)\n",
    "plt.show()"
   ]
  },
  {
   "cell_type": "code",
   "execution_count": 43,
   "metadata": {},
   "outputs": [
    {
     "data": {
      "image/png": "[encoded data removed]",
      "text/plain": [
       "<Figure size 640x480 with 1 Axes>"
      ]
     },
     "metadata": {},
     "output_type": "display_data"
    }
   ],
   "source": [
    "plt.hist(df['expansions_ratio'], bins=50)\n",
    "plt.show()"
   ]
  },
  {
   "cell_type": "code",
   "execution_count": 93,
   "metadata": {},
   "outputs": [
    {
     "data": {
      "image/png": "[encoded data removed]",
      "text/plain": [
       "<Figure size 640x480 with 1 Axes>"
      ]
     },
     "metadata": {},
     "output_type": "display_data"
    }
   ],
   "source": [
    "plt.hist(default_df['length_ratio'], bins=50)\n",
    "plt.show()"
   ]
  },
  {
   "cell_type": "code",
   "execution_count": 44,
   "metadata": {},
   "outputs": [
    {
     "data": {
      "image/png": "[encoded data removed]",
      "text/plain": [
       "<Figure size 640x480 with 1 Axes>"
      ]
     },
     "metadata": {},
     "output_type": "display_data"
    }
   ],
   "source": [
    "plt.hist(df['length_ratio'], bins=50)\n",
    "plt.show()"
   ]
  },
  {
   "cell_type": "code",
   "execution_count": 94,
   "metadata": {},
   "outputs": [
    {
     "name": "stdout",
     "output_type": "stream",
     "text": [
      "2.0543874106538578\n"
     ]
    }
   ],
   "source": [
    "print(default_df[default_df['expansions_ratio'] < 1]['length_ratio'].max())"
   ]
  },
  {
   "cell_type": "code",
   "execution_count": 45,
   "metadata": {},
   "outputs": [
    {
     "name": "stdout",
     "output_type": "stream",
     "text": [
      "2.340647287656579\n"
     ]
    }
   ],
   "source": [
    "print(df[df['expansions_ratio'] < 1]['length_ratio'].max())"
   ]
  },
  {
   "cell_type": "code",
   "execution_count": 95,
   "metadata": {},
   "outputs": [
    {
     "name": "stdout",
     "output_type": "stream",
     "text": [
      "6.208787496255522\n"
     ]
    }
   ],
   "source": [
    "print(default_df['length_ratio'].max())"
   ]
  },
  {
   "cell_type": "code",
   "execution_count": 46,
   "metadata": {},
   "outputs": [
    {
     "name": "stdout",
     "output_type": "stream",
     "text": [
      "2.764336317965202\n"
     ]
    }
   ],
   "source": [
    "print(df['length_ratio'].max())"
   ]
  },
  {
   "cell_type": "code",
   "execution_count": null,
   "metadata": {},
   "outputs": [],
   "source": []
  }
 ],
 "metadata": {
  "kernelspec": {
   "display_name": "Python 3 (ipykernel)",
   "language": "python",
   "name": "python3"
  },
  "language_info": {
   "codemirror_mode": {
    "name": "ipython",
    "version": 3
   },
   "file_extension": ".py",
   "mimetype": "text/x-python",
   "name": "python",
   "nbconvert_exporter": "python",
   "pygments_lexer": "ipython3",
   "version": "3.12.8"
  }
 },
 "nbformat": 4,
 "nbformat_minor": 4
}
